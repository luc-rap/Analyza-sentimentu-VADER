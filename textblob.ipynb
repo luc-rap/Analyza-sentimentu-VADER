{
 "cells": [
  {
   "cell_type": "code",
   "execution_count": 1,
   "id": "93c5aa7c-8f15-4411-b0bd-93b6a78c6830",
   "metadata": {},
   "outputs": [],
   "source": [
    "from textblob import TextBlob\n",
    "import re\n",
    "from nltk import word_tokenize \n",
    "from nltk import pos_tag\n",
    "import nltk\n",
    "from nltk.corpus import stopwords\n",
    "from nltk.corpus import wordnet\n",
    "from nltk.stem import WordNetLemmatizer\n",
    "from wordcloud import WordCloud, STOPWORDS\n",
    "import matplotlib.pyplot as plt\n",
    "import pandas as pd\n",
    "import seaborn as sns\n",
    "from PIL import Image\n",
    "import numpy as np\n",
    "from vaderSentiment.vaderSentiment import SentimentIntensityAnalyzer\n",
    "import speech_recognition as sr \n",
    "import moviepy.editor as mp"
   ]
  },
  {
   "cell_type": "code",
   "execution_count": 2,
   "id": "ca74ff1c-433d-4034-bd04-311b7ae2c7f0",
   "metadata": {},
   "outputs": [],
   "source": [
    "# clip = mp.VideoFileClip(r\"recording2.webm\") \n",
    "# clip.audio.write_audiofile(r\"converted.wav\")"
   ]
  },
  {
   "cell_type": "code",
   "execution_count": 3,
   "id": "34a82795-3338-49ac-b938-689fcf21ea1c",
   "metadata": {},
   "outputs": [],
   "source": [
    "# r = sr.Recognizer()\n",
    "# r.pause_threshold = 20000\n",
    "# r.energy_threshold = 4000\n",
    "# audio = sr.AudioFile(\"converted.wav\")"
   ]
  },
  {
   "cell_type": "code",
   "execution_count": 4,
   "id": "81d3a643-f4a0-4ffc-96b9-8c1476e94031",
   "metadata": {},
   "outputs": [],
   "source": [
    "# with audio as source:\n",
    "#     r.adjust_for_ambient_noise(source)\n",
    "#     audio_file = r.record(source,duration=10000)\n",
    "#     print(audio_file.)"
   ]
  },
  {
   "cell_type": "code",
   "execution_count": null,
   "id": "3ad61367-e1a9-4ad3-bbed-887fdc4fd1f5",
   "metadata": {},
   "outputs": [],
   "source": []
  },
  {
   "cell_type": "code",
   "execution_count": 5,
   "id": "58fd57d4-28b8-4477-88e2-2ac2a8ca1090",
   "metadata": {},
   "outputs": [],
   "source": [
    "# with open('recognized.txt',mode ='w') as file: \n",
    "#     file.write(result) "
   ]
  },
  {
   "cell_type": "code",
   "execution_count": 6,
   "id": "63cf53c9-a07d-476f-8e63-b12d2efe8a6f",
   "metadata": {},
   "outputs": [],
   "source": [
    "# All the function recognize_google() does is to call the google Speech API and get back the result. When I used the provided audio file, I got back the transcription of the first 30 seconds. That's due to the limitation of the free version of the Google speech API and has nothing to do with the code."
   ]
  },
  {
   "cell_type": "code",
   "execution_count": 59,
   "id": "695c4cb6-26df-40f0-acc8-70c6f0fe9439",
   "metadata": {},
   "outputs": [],
   "source": [
    "df_results = pd.DataFrame(columns=['n-gram', 'sentiment_score', 'sentiment_label'])\n",
    "df_results_vader = pd.DataFrame(columns=['n-gram', 'pos', 'neg', 'neu', 'compound', 'sentiment_label'])\n",
    "df_comparison = pd.DataFrame(columns=['n-gram', 'textblob-score', 'textblob-subjectivity', 'vader-pos', 'vader-neg', 'vader-neu', 'vader-compound'])\n",
    "df_azure_speech = pd.DataFrame(columns=['Sentence', 'Pre-processed sentence', 'textblob-subjectivity', 'textblob-score', 'vader-pos','textblob-polarity', 'vader-neg', 'vader-neu', 'vader-compound', 'vader-polarity'])\n",
    "pos_words_str = \"\"\n",
    "neg_words_str = \"\"\n",
    "pos_words_str_vader = \"\"\n",
    "neg_words_str_vader = \"\"\n",
    "\n",
    "test_sentence = \"The website seems to be outdated, so I'm not sure this information is correct or relevant.\""
   ]
  },
  {
   "cell_type": "code",
   "execution_count": 8,
   "id": "eefbb3fe-7996-419d-9b13-2309e7301d0b",
   "metadata": {},
   "outputs": [
    {
     "data": {
      "text/html": [
       "<div>\n",
       "<style scoped>\n",
       "    .dataframe tbody tr th:only-of-type {\n",
       "        vertical-align: middle;\n",
       "    }\n",
       "\n",
       "    .dataframe tbody tr th {\n",
       "        vertical-align: top;\n",
       "    }\n",
       "\n",
       "    .dataframe thead th {\n",
       "        text-align: right;\n",
       "    }\n",
       "</style>\n",
       "<table border=\"1\" class=\"dataframe\">\n",
       "  <thead>\n",
       "    <tr style=\"text-align: right;\">\n",
       "      <th></th>\n",
       "      <th>n-gram</th>\n",
       "      <th>sentiment_score</th>\n",
       "      <th>sentiment_label</th>\n",
       "    </tr>\n",
       "  </thead>\n",
       "  <tbody>\n",
       "  </tbody>\n",
       "</table>\n",
       "</div>"
      ],
      "text/plain": [
       "Empty DataFrame\n",
       "Columns: [n-gram, sentiment_score, sentiment_label]\n",
       "Index: []"
      ]
     },
     "execution_count": 8,
     "metadata": {},
     "output_type": "execute_result"
    }
   ],
   "source": [
    "df_results"
   ]
  },
  {
   "cell_type": "code",
   "execution_count": 9,
   "id": "b0145a87-14ca-4a8e-b352-57de89a96f71",
   "metadata": {},
   "outputs": [],
   "source": [
    "contractions = {\n",
    "\"ain't\": \"am not / are not\",\n",
    "\"aren't\": \"are not / am not\",\n",
    "\"can't\": \"cannot\",\n",
    "\"can't've\": \"cannot have\",\n",
    "\"'cause\": \"because\",\n",
    "\"could've\": \"could have\",\n",
    "\"couldn't\": \"could not\",\n",
    "\"couldn't've\": \"could not have\",\n",
    "\"didn't\": \"did not\",\n",
    "\"doesn't\": \"does not\",\n",
    "\"don't\": \"do not\",\n",
    "\"hadn't\": \"had not\",\n",
    "\"hadn't've\": \"had not have\",\n",
    "\"hasn't\": \"has not\",\n",
    "\"haven't\": \"have not\",\n",
    "\"he'd\": \"he had / he would\",\n",
    "\"he'd've\": \"he would have\",\n",
    "\"he'll\": \"he shall / he will\",\n",
    "\"he'll've\": \"he shall have / he will have\",\n",
    "\"he's\": \"he has / he is\",\n",
    "\"how'd\": \"how did\",\n",
    "\"how'd'y\": \"how do you\",\n",
    "\"how'll\": \"how will\",\n",
    "\"how's\": \"how has / how is\",\n",
    "\"i'd\": \"I had / I would\",\n",
    "\"i'd've\": \"I would have\",\n",
    "\"i'll\": \"I shall / I will\",\n",
    "\"i'll've\": \"I shall have / I will have\",\n",
    "\"i'm\": \"I am\",\n",
    "\"i've\": \"I have\",\n",
    "\"isn't\": \"is not\",\n",
    "\"it'd\": \"it had / it would\",\n",
    "\"it'd've\": \"it would have\",\n",
    "\"it'll\": \"it shall / it will\",\n",
    "\"it'll've\": \"it shall have / it will have\",\n",
    "\"it's\": \"it has / it is\",\n",
    "\"let's\": \"let us\",\n",
    "\"ma'am\": \"madam\",\n",
    "\"mayn't\": \"may not\",\n",
    "\"might've\": \"might have\",\n",
    "\"mightn't\": \"might not\",\n",
    "\"mightn't've\": \"might not have\",\n",
    "\"must've\": \"must have\",\n",
    "\"mustn't\": \"must not\",\n",
    "\"mustn't've\": \"must not have\",\n",
    "\"needn't\": \"need not\",\n",
    "\"needn't've\": \"need not have\",\n",
    "\"o'clock\": \"of the clock\",\n",
    "\"oughtn't\": \"ought not\",\n",
    "\"oughtn't've\": \"ought not have\",\n",
    "\"shan't\": \"shall not\",\n",
    "\"sha'n't\": \"shall not\",\n",
    "\"shan't've\": \"shall not have\",\n",
    "\"she'd\": \"she had / she would\",\n",
    "\"she'd've\": \"she would have\",\n",
    "\"she'll\": \"she shall / she will\",\n",
    "\"she'll've\": \"she shall have / she will have\",\n",
    "\"she's\": \"she has / she is\",\n",
    "\"should've\": \"should have\",\n",
    "\"shouldn't\": \"should not\",\n",
    "\"shouldn't've\": \"should not have\",\n",
    "\"so've\": \"so have\",\n",
    "\"so's\": \"so as / so is\",\n",
    "\"that'd\": \"that would / that had\",\n",
    "\"that'd've\": \"that would have\",\n",
    "\"that's\": \"that has / that is\",\n",
    "\"there'd\": \"there had / there would\",\n",
    "\"there'd've\": \"there would have\",\n",
    "\"there's\": \"there has / there is\",\n",
    "\"they'd\": \"they had / they would\",\n",
    "\"they'd've\": \"they would have\",\n",
    "\"they'll\": \"they shall / they will\",\n",
    "\"they'll've\": \"they shall have / they will have\",\n",
    "\"they're\": \"they are\",\n",
    "\"they've\": \"they have\",\n",
    "\"to've\": \"to have\",\n",
    "\"wasn't\": \"was not\",\n",
    "\"we'd\": \"we had / we would\",\n",
    "\"we'd've\": \"we would have\",\n",
    "\"we'll\": \"we will\",\n",
    "\"we'll've\": \"we will have\",\n",
    "\"we're\": \"we are\",\n",
    "\"we've\": \"we have\",\n",
    "\"weren't\": \"were not\",\n",
    "\"what'll\": \"what shall / what will\",\n",
    "\"what'll've\": \"what shall have / what will have\",\n",
    "\"what're\": \"what are\",\n",
    "\"what's\": \"what has / what is\",\n",
    "\"what've\": \"what have\",\n",
    "\"when's\": \"when has / when is\",\n",
    "\"when've\": \"when have\",\n",
    "\"where'd\": \"where did\",\n",
    "\"where's\": \"where has / where is\",\n",
    "\"where've\": \"where have\",\n",
    "\"who'll\": \"who shall / who will\",\n",
    "\"who'll've\": \"who shall have / who will have\",\n",
    "\"who's\": \"who has / who is\",\n",
    "\"who've\": \"who have\",\n",
    "\"why's\": \"why has / why is\",\n",
    "\"why've\": \"why have\",\n",
    "\"will've\": \"will have\",\n",
    "\"won't\": \"will not\",\n",
    "\"won't've\": \"will not have\",\n",
    "\"would've\": \"would have\",\n",
    "\"wouldn't\": \"would not\",\n",
    "\"wouldn't've\": \"would not have\",\n",
    "\"y'all\": \"you all\",\n",
    "\"y'all'd\": \"you all would\",\n",
    "\"y'all'd've\": \"you all would have\",\n",
    "\"y'all're\": \"you all are\",\n",
    "\"y'all've\": \"you all have\",\n",
    "\"you'd\": \"you had / you would\",\n",
    "\"you'd've\": \"you would have\",\n",
    "\"you'll\": \"you shall / you will\",\n",
    "\"you'll've\": \"you shall have / you will have\",\n",
    "\"you're\": \"you are\",\n",
    "\"you've\": \"you have\"\n",
    "}"
   ]
  },
  {
   "cell_type": "code",
   "execution_count": 10,
   "id": "accef47c-1d91-4419-acf3-49f46f2befda",
   "metadata": {},
   "outputs": [],
   "source": [
    "with open(\"transcript2.txt\") as transcript:\n",
    "    lines = transcript.readlines()\n",
    "#print(lines)\n",
    "# subor obsahuje len jeden riadok, inak by nam vratil list a kazdy riadok by bol prvok v liste\n",
    "#print(lines[0])"
   ]
  },
  {
   "cell_type": "code",
   "execution_count": 11,
   "id": "a866e950-a5a4-4bf7-8f2f-e82bbf3eaca3",
   "metadata": {},
   "outputs": [],
   "source": [
    "ngram_object = TextBlob(lines[0])"
   ]
  },
  {
   "cell_type": "code",
   "execution_count": 12,
   "id": "f38d6f2a-45ec-4b0f-bc51-b4db6fe4a822",
   "metadata": {},
   "outputs": [],
   "source": [
    "ngrams = ngram_object.ngrams(n=4) \n",
    "#print(ngrams) "
   ]
  },
  {
   "cell_type": "code",
   "execution_count": 13,
   "id": "3f557db0-aebd-4ab5-ae91-de76991cc520",
   "metadata": {},
   "outputs": [],
   "source": [
    "# for ngram in ngrams:\n",
    "#     ngram_str = TextBlob(' '.join(ngram))\n",
    "#     sentiment = ngram_str.sentiment.polarity\n",
    "#     subjectivity = ngram_str.sentiment.subjectivity\n",
    "#     if sentiment >= 0.2:\n",
    "#         print('Ngram: ' + ' '.join(ngram) + ' | sentiment: ' + str(sentiment) + ' | subjectivity: ' + str(subjectivity))\n",
    "#     if sentiment < 0:\n",
    "#         print('Ngram: ' + ' '.join(ngram) + ' | sentiment: ' + str(sentiment) + ' | subjectivity: ' + str(subjectivity))"
   ]
  },
  {
   "cell_type": "code",
   "execution_count": 14,
   "id": "ba8d63ed-dcc1-4519-af10-50a0c3361c16",
   "metadata": {},
   "outputs": [],
   "source": [
    "# remove punct, lower case everything etc...\n",
    "# then ngrams -> how large?\n",
    "# then standard text pre processing for ngrams\n",
    "# then TextBlob "
   ]
  },
  {
   "cell_type": "code",
   "execution_count": 15,
   "id": "91bbc491-58e3-44a5-a83b-3c774bd9aaf3",
   "metadata": {},
   "outputs": [],
   "source": [
    "# with open(\"e-lekar.txt\", 'r') as transcript:\n",
    "#     lines = transcript.read().replace('\\n', ' ')"
   ]
  },
  {
   "cell_type": "code",
   "execution_count": 60,
   "id": "263603f4-dc9e-436b-8ae8-9e1e705658e4",
   "metadata": {},
   "outputs": [
    {
     "name": "stdout",
     "output_type": "stream",
     "text": [
      "[\"The website seems to be outdated, so I'm not sure this information is correct or relevant\", '']\n"
     ]
    }
   ],
   "source": [
    "with open(\"e-lekar.txt\", 'r') as transcript_sentences:\n",
    "    text = transcript_sentences.read()\n",
    "\n",
    "sentences = re.split(r' *[\\.\\?!][\\'\"\\)\\]]* *', text)\n",
    "test_sentence_ = re.split(r' *[\\.\\?!][\\'\"\\)\\]]* *', test_sentence)\n",
    "print(test_sentence_)"
   ]
  },
  {
   "cell_type": "code",
   "execution_count": 17,
   "id": "fb248a6d-b215-4f8f-856c-cbcb8e8bc13e",
   "metadata": {},
   "outputs": [],
   "source": [
    "# for sentence in sentences:\n",
    "#     print(sentence)\n",
    "#     df_azure_speech.append({'Sentence': sentence}, ignore_index=True)"
   ]
  },
  {
   "cell_type": "code",
   "execution_count": 18,
   "id": "eba522a7-3e05-42cd-8013-dcbb3654c5f9",
   "metadata": {},
   "outputs": [
    {
     "data": {
      "text/html": [
       "<div>\n",
       "<style scoped>\n",
       "    .dataframe tbody tr th:only-of-type {\n",
       "        vertical-align: middle;\n",
       "    }\n",
       "\n",
       "    .dataframe tbody tr th {\n",
       "        vertical-align: top;\n",
       "    }\n",
       "\n",
       "    .dataframe thead th {\n",
       "        text-align: right;\n",
       "    }\n",
       "</style>\n",
       "<table border=\"1\" class=\"dataframe\">\n",
       "  <thead>\n",
       "    <tr style=\"text-align: right;\">\n",
       "      <th></th>\n",
       "      <th>Sentence</th>\n",
       "      <th>Pre-processed sentence</th>\n",
       "      <th>textblob-subjectivity</th>\n",
       "      <th>textblob-score</th>\n",
       "      <th>vader-pos</th>\n",
       "      <th>textblob-polarity</th>\n",
       "      <th>vader-neg</th>\n",
       "      <th>vader-neu</th>\n",
       "      <th>vader-compound</th>\n",
       "      <th>vader-polarity</th>\n",
       "    </tr>\n",
       "  </thead>\n",
       "  <tbody>\n",
       "  </tbody>\n",
       "</table>\n",
       "</div>"
      ],
      "text/plain": [
       "Empty DataFrame\n",
       "Columns: [Sentence, Pre-processed sentence, textblob-subjectivity, textblob-score, vader-pos, textblob-polarity, vader-neg, vader-neu, vader-compound, vader-polarity]\n",
       "Index: []"
      ]
     },
     "execution_count": 18,
     "metadata": {},
     "output_type": "execute_result"
    }
   ],
   "source": [
    "df_azure_speech"
   ]
  },
  {
   "cell_type": "code",
   "execution_count": 61,
   "id": "f4edb77e-6399-4f21-8c86-c78612571561",
   "metadata": {},
   "outputs": [
    {
     "name": "stdout",
     "output_type": "stream",
     "text": [
      "The website seems to be outdated so I am not sure this information is correct or relevant \n"
     ]
    }
   ],
   "source": [
    "def clean_sentences(text):\n",
    "    for word in text.split():\n",
    "        if word.lower() in contractions:\n",
    "            text = text.replace(word, contractions[word.lower()])\n",
    "    text = re.sub('[^A-Za-z]+', ' ', text)\n",
    "    return text\n",
    "\n",
    "lines_clean = []\n",
    "for sentence in sentences:\n",
    "    lines_clean.append(clean_sentences(sentence))\n",
    "    \n",
    "test_sentence_ = clean_sentences(test_sentence)\n",
    "print(test_sentence_)"
   ]
  },
  {
   "cell_type": "code",
   "execution_count": 67,
   "id": "efbd34ca-34b8-4c89-adb7-67bf65135516",
   "metadata": {},
   "outputs": [
    {
     "name": "stdout",
     "output_type": "stream",
     "text": [
      "The\n",
      "website\n",
      "seems\n",
      "to\n",
      "be\n",
      "outdated\n",
      "so\n",
      "I\n",
      "am\n",
      "not\n",
      "sure\n",
      "this\n",
      "information\n",
      "is\n",
      "correct\n",
      "or\n",
      "relevant\n",
      "\n"
     ]
    }
   ],
   "source": [
    "# for sentence in lines_clean:\n",
    "#     print(sentence)\n",
    "test_sentence_new = []\n",
    "for word in list(test_sentence_.split(\" \")):\n",
    "    print(word)\n",
    "    if word.lower() not in set(item_list):\n",
    "        test_sentence_new.append(word)"
   ]
  },
  {
   "cell_type": "code",
   "execution_count": 68,
   "id": "2cac3266-c982-45ab-94b1-0b4bc701c5f1",
   "metadata": {},
   "outputs": [
    {
     "name": "stdout",
     "output_type": "stream",
     "text": [
      "['website', 'seems', 'outdated', 'not', 'sure', 'information', 'correct', 'relevant', '']\n"
     ]
    }
   ],
   "source": [
    "print(test_sentence_new)"
   ]
  },
  {
   "cell_type": "code",
   "execution_count": 21,
   "id": "98444eba-41d4-49f1-bfb7-db9fdbafcc58",
   "metadata": {},
   "outputs": [],
   "source": [
    "def clean(text):\n",
    "    for word in text.split():\n",
    "        if word.lower() in contractions:\n",
    "            text = text.replace(word, contractions[word.lower()])\n",
    "    text = re.sub('[^A-Za-z]+', ' ', text)\n",
    "    return text"
   ]
  },
  {
   "cell_type": "code",
   "execution_count": 22,
   "id": "16e61fce-1c23-425a-ad87-dc96ac63dab1",
   "metadata": {},
   "outputs": [],
   "source": [
    "# lines_clean = clean(lines)\n",
    "# print(lines_clean)"
   ]
  },
  {
   "cell_type": "code",
   "execution_count": 23,
   "id": "c727598f-b40d-4e44-9621-4a1fef924f28",
   "metadata": {},
   "outputs": [],
   "source": [
    "# print((stopwords.words('english')))\n",
    "stopwords_custom = stopwords.words('english')"
   ]
  },
  {
   "cell_type": "code",
   "execution_count": 62,
   "id": "766dcb72-5c5c-4ced-b554-7032f5e44153",
   "metadata": {},
   "outputs": [],
   "source": [
    "unwanted = {'no', 'not', 'nor'}\n",
    "item_list = [e for e in stopwords_custom if e not in unwanted]"
   ]
  },
  {
   "cell_type": "code",
   "execution_count": 25,
   "id": "e415980b-8b7e-4a65-923e-2b0a3092589e",
   "metadata": {},
   "outputs": [],
   "source": [
    "pos_dict = {'J':wordnet.ADJ, 'V':wordnet.VERB, 'N':wordnet.NOUN, 'R':wordnet.ADV}\n",
    "def token_stop_pos(text):\n",
    "    tags = pos_tag(word_tokenize(str(text)))\n",
    "    newlist = []\n",
    "    for word, tag in tags:\n",
    "        if word.lower() not in set(item_list):\n",
    "            newlist.append(tuple([word, pos_dict.get(tag[0])]))\n",
    "    return newlist"
   ]
  },
  {
   "cell_type": "code",
   "execution_count": 79,
   "id": "ef32cdf8-f0f0-41dc-8d9d-fe2a8cd84e6f",
   "metadata": {},
   "outputs": [
    {
     "name": "stdout",
     "output_type": "stream",
     "text": [
      "[('[', 'NN'), ('``', '``'), ('The', 'DT'), ('website', 'NN'), ('seems', 'VBZ'), ('to', 'TO'), ('be', 'VB'), ('outdated', 'VBN'), (',', ','), ('so', 'IN'), ('I', 'PRP'), (\"'m\", 'VBP'), ('not', 'RB'), ('sure', 'JJ'), ('this', 'DT'), ('information', 'NN'), ('is', 'VBZ'), ('accurate', 'JJ'), ('or', 'CC'), ('relevant', 'JJ'), ('.', '.'), (\"''\", \"''\"), (']', 'NN')]\n"
     ]
    }
   ],
   "source": [
    "test_sentence_new_tok = word_tokenize(str(test_sentence_new))\n",
    "test_pos = pos_tag(word_tokenize(str([\"The website seems to be outdated, so I'm not sure this information is accurate or relevant.\"])))\n",
    "\n",
    "print(test_pos)\n"
   ]
  },
  {
   "cell_type": "code",
   "execution_count": null,
   "id": "c542c862-96f9-45be-ac58-bf2a66d8b1b4",
   "metadata": {},
   "outputs": [],
   "source": [
    "lines_token_stop_pos = []\n",
    "for sentence in lines_clean:\n",
    "    lines_token_stop_pos.append(token_stop_pos(sentence))"
   ]
  },
  {
   "cell_type": "code",
   "execution_count": 27,
   "id": "eb67805c-5f46-4d35-b981-55a3672cc666",
   "metadata": {},
   "outputs": [],
   "source": [
    "wordnet_lemmatizer = WordNetLemmatizer()\n",
    "def lemmatize(pos_data):\n",
    "    lemma_rew = \" \"\n",
    "    for word, pos in pos_data:\n",
    "        if not pos:\n",
    "            lemma = word\n",
    "            lemma_rew = lemma_rew + \" \" + lemma\n",
    "        else:\n",
    "            lemma = wordnet_lemmatizer.lemmatize(word, pos=pos)\n",
    "            lemma_rew = lemma_rew + \" \" + lemma\n",
    "    return lemma_rew         "
   ]
  },
  {
   "cell_type": "code",
   "execution_count": 28,
   "id": "a581f983-91b5-41ab-b7c4-b76fcd1b016f",
   "metadata": {},
   "outputs": [],
   "source": [
    "lines_lemma = []\n",
    "for phrase in lines_token_stop_pos:\n",
    "    lines_lemma.append(lemmatize(phrase).lower())"
   ]
  },
  {
   "cell_type": "code",
   "execution_count": 29,
   "id": "db079a78-e088-4c60-a184-6a53f04c3b4e",
   "metadata": {},
   "outputs": [],
   "source": [
    "# ngram_object = TextBlob(lines_lemma)\n",
    "# ngrams = ngram_object.ngrams(n=5) \n",
    "analyzer = SentimentIntensityAnalyzer()\n",
    "#print(type(lines_lemma))\n",
    "\n",
    "# for li in lines_lemma:\n",
    "#     print(li)"
   ]
  },
  {
   "cell_type": "code",
   "execution_count": 30,
   "id": "eb04ad98-06fd-482e-babc-0f1ecf8bf969",
   "metadata": {},
   "outputs": [],
   "source": [
    "# textblob_objects = TextBlob(lines_lemma)\n",
    "for sentence, line in zip(sentences, lines_lemma):\n",
    "    txtblob_object = TextBlob(line)\n",
    "    sentiment = txtblob_object.sentiment.polarity\n",
    "    subjectivity = txtblob_object.sentiment.subjectivity\n",
    "    sentiment_vader = analyzer.polarity_scores(txtblob_object)\n",
    "    # df_azure_speech = pd.DataFrame(columns=['Sentence', 'Pre-processed sentence', 'textblob-subjectivity', 'textblob-score', 'vader-pos','textblob-polarity', 'vader-neg', 'vader-neu', 'vader-compound', 'vader-polarity'])\n",
    "    df_azure_speech = df_azure_speech.append({'Sentence': sentence,'Pre-processed sentence': line, 'textblob-subjectivity': subjectivity, 'textblob-score': sentiment, 'vader-pos': sentiment_vader['pos'], 'vader-neg': sentiment_vader['neg'], 'vader-neu':sentiment_vader['neu'], 'vader-compound':sentiment_vader['compound']}, ignore_index=True)\n",
    "  "
   ]
  },
  {
   "cell_type": "code",
   "execution_count": 31,
   "id": "72633e45-58f5-490a-9e9d-f6fcc4060223",
   "metadata": {},
   "outputs": [],
   "source": [
    "df_azure_speech.to_csv(\"results_elekar-2.csv\")"
   ]
  },
  {
   "cell_type": "code",
   "execution_count": 32,
   "id": "dd6fb97f-b016-4907-a8ea-6bce2dd1c060",
   "metadata": {},
   "outputs": [],
   "source": [
    "for ngram in ngrams:\n",
    "    ngram_str = TextBlob(' '.join(ngram))\n",
    "    sentiment = ngram_str.sentiment.polarity\n",
    "    subjectivity = ngram_str.sentiment.subjectivity\n",
    "    sentiment_vader = analyzer.polarity_scores(ngram_str)\n",
    "    # (columns=['n-gram', 'textblob-score', 'textblob-subjectivity', 'vader-pos', 'vader-neg', 'vader-neu'])\n",
    "    # df_azure_speech = pd.DataFrame(columns=['Sentence', 'Pre-processed sentence', 'textblob-subjectivity', 'textblob-score', 'vader-pos','textblob-polarity', 'vader-neg', 'vader-neu', 'vader-compound', 'vader-polarity'])\n",
    "\n",
    "    df_comparison = df_comparison.append({'n-gram': ' '.join(ngram), 'textblob-score': sentiment, 'textblob-subjectivity': subjectivity, 'vader-pos': sentiment_vader['pos'], 'vader-neg': sentiment_vader['neg'], 'vader-neu':sentiment_vader['neu'], 'vader-compound':sentiment_vader['compound']}, ignore_index=True)\n",
    "    if subjectivity <= 0:\n",
    "        pass\n",
    "        # print(' '.join(ngram) + ' ' + str(ngram_str.sentiment.subjectivity))\n",
    "    if sentiment > 0:\n",
    "        df_results = df_results.append({'n-gram': ' '.join(ngram), 'sentiment_score': sentiment, 'sentiment_label': 'Positive'}, ignore_index=True)\n",
    "        pos_words_str += \" \" +  ' '.join(ngram)\n",
    "        # print('Ngram: ' + ' '.join(ngram) + ' | sentiment: ' + str(sentiment) + ' | subjectivity: ' + str(subjectivity))\n",
    "    if sentiment < 0:\n",
    "        # print('Ngram: ' + ' '.join(ngram) + ' | sentiment: ' + str(sentiment) + ' | subjectivity: ' + str(subjectivity))\n",
    "        df_results = df_results.append({'n-gram': ' '.join(ngram), 'sentiment_score': sentiment, 'sentiment_label': 'Negative'}, ignore_index=True)\n",
    "        neg_words_str += \" \" + ' '.join(ngram)\n",
    "    if sentiment == 0:\n",
    "        df_results = df_results.append({'n-gram': ' '.join(ngram), 'sentiment_score': sentiment, 'sentiment_label': 'Neutral'}, ignore_index=True)"
   ]
  },
  {
   "cell_type": "code",
   "execution_count": 33,
   "id": "8b139de9-b704-468c-866d-4160389c636b",
   "metadata": {},
   "outputs": [],
   "source": [
    "df_comparison.to_csv(\"results_3.csv\")"
   ]
  },
  {
   "cell_type": "code",
   "execution_count": 34,
   "id": "0e29c8c5-fc8e-4e5f-935b-84604ea297f0",
   "metadata": {},
   "outputs": [],
   "source": [
    "# for ngram in ngrams:\n",
    "#     ngram_str = TextBlob(' '.join(ngram), analyzer=NaiveBayesAnalyzer())\n",
    "#     sentiment = ngram_str.sentiment\n",
    "#     print('Ngram: ' + ' '.join(ngram) + ' | sentiment: ' + str(sentiment))\n",
    "# # pomale"
   ]
  },
  {
   "cell_type": "code",
   "execution_count": 35,
   "id": "525fec9a-65a0-4dfc-9f0c-5abe5fa60d44",
   "metadata": {},
   "outputs": [],
   "source": [
    "# def random_color_func(word=None, font_size=None, position=None, orientation=None, font_path=None, random_state=None):\n",
    "#     h = int(360.0 * 45.0 / 255.0)\n",
    "#     s = int(100.0 * 255.0 / 255.0)\n",
    "#     l = int(100.0 * float(random_state.randint(60, 120)) / 255.0)\n",
    "\n",
    "#     return \"hsl({}, {}%, {}%)\".format(h, s, l)"
   ]
  },
  {
   "cell_type": "code",
   "execution_count": 36,
   "id": "dc98134e-511c-4185-a003-921250b8da93",
   "metadata": {},
   "outputs": [],
   "source": [
    "# file_content=open (\"part_1.txt\").read()\n",
    "\n",
    "# wordcloud = WordCloud(font_path = r'C:\\Windows\\Fonts\\Verdana.ttf',\n",
    "#                             stopwords = STOPWORDS,\n",
    "#                             background_color = 'white',\n",
    "#                             width = 1200,\n",
    "#                             height = 1000,\n",
    "#                             color_func = random_color_func\n",
    "#                             ).generate(lines_lemma)"
   ]
  },
  {
   "cell_type": "code",
   "execution_count": 37,
   "id": "8511b2d5-53cd-42d1-94f8-4cd3ba0bbaa0",
   "metadata": {},
   "outputs": [],
   "source": [
    "# plt.imshow(wordcloud)\n",
    "# plt.axis('off')\n",
    "# plt.show()\n",
    "# rozdelit na pos a neg word cloud\n",
    "# histogram sentimentu \n",
    "# vseobecny pocet sentimentu (pos, neg)\n",
    "# top neg, top pos\n",
    "# convert results to dataframe / csv "
   ]
  },
  {
   "cell_type": "code",
   "execution_count": 38,
   "id": "eb8f2ce3-75be-45d2-9fac-a8b1e96f11f7",
   "metadata": {},
   "outputs": [],
   "source": [
    "# wordcloud = WordCloud(font_path = r'C:\\Windows\\Fonts\\Verdana.ttf',\n",
    "#                             stopwords = STOPWORDS,\n",
    "#                             background_color = 'white',\n",
    "#                             width = 1200,\n",
    "#                             height = 1000,\n",
    "#                             color_func = random_color_func\n",
    "#                             ).generate(pos_words_str)\n",
    "# plt.imshow(wordcloud)\n",
    "# plt.axis('off')\n",
    "# plt.show()"
   ]
  },
  {
   "cell_type": "code",
   "execution_count": 39,
   "id": "d475ee91-1434-4e03-8102-66bf862ad5ab",
   "metadata": {},
   "outputs": [],
   "source": [
    "# wordcloud = WordCloud(font_path = r'C:\\Windows\\Fonts\\Verdana.ttf',\n",
    "#                             stopwords = STOPWORDS,\n",
    "#                             background_color = 'white',\n",
    "#                             width = 1200,\n",
    "#                             height = 1000,\n",
    "#                             color_func = random_color_func\n",
    "#                             ).generate(neg_words_str)\n",
    "# plt.imshow(wordcloud)\n",
    "# plt.axis('off')\n",
    "# plt.show()"
   ]
  },
  {
   "cell_type": "code",
   "execution_count": 40,
   "id": "15841287-9cad-4b1a-b9aa-dc4e627374ab",
   "metadata": {},
   "outputs": [],
   "source": [
    "def sentiment_analysis(textfile):\n",
    "    with open(textfile) as transcript:\n",
    "        lines = transcript.readlines()\n",
    "    lines_clean = clean(lines[0])\n",
    "    lines_token_stop_pos = token_stop_pos(lines_clean)\n",
    "    lines_lemma = lemmatize(lines_token_stop_pos).lower()\n",
    "    ngram_object = TextBlob(lines_lemma)\n",
    "    ngrams = ngram_object.ngrams(n=3) \n",
    "    for ngram in ngrams:\n",
    "        ngram_str = TextBlob(' '.join(ngram))\n",
    "        sentiment = ngram_str.sentiment.polarity\n",
    "        subjectivity = ngram_str.sentiment.subjectivity\n",
    "        # sentiment_vader = analyzer.polarity_scores(ngram_str)\n",
    "        if sentiment >= 0.2:\n",
    "            print('Ngram: ' + ' '.join(ngram) + ' | sentiment: ' + str(sentiment) + ' | subjectivity: ' + str(subjectivity))\n",
    "        if sentiment < 0:\n",
    "            print('Ngram: ' + ' '.join(ngram) + ' | sentiment: ' + str(sentiment) + ' | subjectivity: ' + str(subjectivity))\n",
    "    \n",
    "#     file_content=open (textfile).read()\n",
    "\n",
    "#     wordcloud = WordCloud(font_path = r'C:\\Windows\\Fonts\\Verdana.ttf',\n",
    "#                             stopwords = STOPWORDS,\n",
    "#                             background_color = 'white',\n",
    "#                             width = 1200,\n",
    "#                             height = 1000,\n",
    "#                             color_func = random_color_func\n",
    "#                             ).generate(lines_lemma)\n",
    "#     plt.imshow(wordcloud)\n",
    "#     plt.axis('off')\n",
    "#     plt.show()"
   ]
  },
  {
   "cell_type": "code",
   "execution_count": 41,
   "id": "79b38e45-72bc-4d90-9b18-d29125ed1d2a",
   "metadata": {},
   "outputs": [
    {
     "name": "stdout",
     "output_type": "stream",
     "text": [
      "Ngram: see problem fine | sentiment: 0.4166666666666667 | subjectivity: 0.5\n",
      "Ngram: problem fine would | sentiment: 0.4166666666666667 | subjectivity: 0.5\n",
      "Ngram: fine would good | sentiment: 0.5583333333333333 | subjectivity: 0.55\n",
      "Ngram: would good large | sentiment: 0.45714285714285713 | subjectivity: 0.5142857142857143\n",
      "Ngram: good large not | sentiment: 0.45714285714285713 | subjectivity: 0.5142857142857143\n",
      "Ngram: large not able | sentiment: -0.017857142857142863 | subjectivity: 0.5267857142857143\n",
      "Ngram: not able find | sentiment: -0.25 | subjectivity: 0.625\n",
      "Ngram: able find first | sentiment: 0.375 | subjectivity: 0.47916666666666663\n",
      "Ngram: find first spot | sentiment: 0.25 | subjectivity: 0.3333333333333333\n",
      "Ngram: first spot right | sentiment: 0.26785714285714285 | subjectivity: 0.43452380952380953\n",
      "Ngram: deal number small | sentiment: -0.25 | subjectivity: 0.4\n",
      "Ngram: number small problematic | sentiment: -0.25 | subjectivity: 0.4\n",
      "Ngram: small problematic not | sentiment: -0.25 | subjectivity: 0.4\n",
      "Ngram: problematic not able | sentiment: -0.25 | subjectivity: 0.625\n",
      "Ngram: not able find | sentiment: -0.25 | subjectivity: 0.625\n"
     ]
    }
   ],
   "source": [
    "sentiment_analysis(\"testing_text.txt\")"
   ]
  },
  {
   "cell_type": "code",
   "execution_count": 42,
   "id": "979866a2-81aa-427f-a9bd-c8ef95933925",
   "metadata": {},
   "outputs": [
    {
     "name": "stdout",
     "output_type": "stream",
     "text": [
      "1.0\n",
      "1.0\n",
      "-0.5\n",
      "1.0\n"
     ]
    }
   ],
   "source": [
    "str_ = TextBlob(\"best\")\n",
    "sentiment = str_.sentiment.polarity\n",
    "print(sentiment)\n",
    "\n",
    "str_ = TextBlob(\"not the best\")\n",
    "sentiment = str_.sentiment.polarity\n",
    "print(sentiment)\n",
    "\n",
    "str_ = TextBlob(\"not best\")\n",
    "sentiment = str_.sentiment.polarity\n",
    "print(sentiment)\n",
    "\n",
    "str_ = TextBlob(\"wasn't best\")\n",
    "sentiment = str_.sentiment.polarity\n",
    "print(sentiment)"
   ]
  },
  {
   "cell_type": "code",
   "execution_count": 43,
   "id": "73fbdf18-ebc5-4ec0-8912-6676a21a4dcf",
   "metadata": {},
   "outputs": [
    {
     "name": "stdout",
     "output_type": "stream",
     "text": [
      "Sentiment(classification='neg', p_pos=0.3272750567424299, p_neg=0.6727249432575704)\n"
     ]
    }
   ],
   "source": [
    "from textblob.sentiments import NaiveBayesAnalyzer\n",
    "a = \"it was very problematic\"\n",
    "b = TextBlob(a, analyzer=NaiveBayesAnalyzer())\n",
    "print(b.sentiment)"
   ]
  },
  {
   "cell_type": "code",
   "execution_count": 44,
   "id": "60505278-9cb0-4a3d-a3b3-e03f779fbdcf",
   "metadata": {},
   "outputs": [],
   "source": [
    "# The textblob.sentiments module contains two sentiment analysis implementations, PatternAnalyzer (based on the pattern library) and NaiveBayesAnalyzer (an NLTK classifier trained on a movie reviews corpus).\n",
    "# The default implementation is PatternAnalyzer, but you can override the analyzer by passing another implementation into a TextBlob’s constructor."
   ]
  },
  {
   "cell_type": "code",
   "execution_count": 45,
   "id": "7bac8962-83da-4a3e-8456-76f5e0652c46",
   "metadata": {},
   "outputs": [
    {
     "name": "stdout",
     "output_type": "stream",
     "text": [
      "0.0\n"
     ]
    }
   ],
   "source": [
    "str_ = TextBlob(\"big problem\")\n",
    "sentiment = str_.sentiment.polarity\n",
    "print(sentiment)"
   ]
  },
  {
   "cell_type": "code",
   "execution_count": 46,
   "id": "23287f83-6a24-44ad-a566-6bd4102f837c",
   "metadata": {},
   "outputs": [
    {
     "data": {
      "text/html": [
       "<div>\n",
       "<style scoped>\n",
       "    .dataframe tbody tr th:only-of-type {\n",
       "        vertical-align: middle;\n",
       "    }\n",
       "\n",
       "    .dataframe tbody tr th {\n",
       "        vertical-align: top;\n",
       "    }\n",
       "\n",
       "    .dataframe thead th {\n",
       "        text-align: right;\n",
       "    }\n",
       "</style>\n",
       "<table border=\"1\" class=\"dataframe\">\n",
       "  <thead>\n",
       "    <tr style=\"text-align: right;\">\n",
       "      <th></th>\n",
       "      <th>n-gram</th>\n",
       "      <th>sentiment_score</th>\n",
       "      <th>sentiment_label</th>\n",
       "    </tr>\n",
       "  </thead>\n",
       "  <tbody>\n",
       "    <tr>\n",
       "      <th>0</th>\n",
       "      <td>want to speak real</td>\n",
       "      <td>0.200</td>\n",
       "      <td>Positive</td>\n",
       "    </tr>\n",
       "    <tr>\n",
       "      <th>1</th>\n",
       "      <td>to speak real English</td>\n",
       "      <td>0.000</td>\n",
       "      <td>Neutral</td>\n",
       "    </tr>\n",
       "    <tr>\n",
       "      <th>2</th>\n",
       "      <td>speak real English from</td>\n",
       "      <td>0.000</td>\n",
       "      <td>Neutral</td>\n",
       "    </tr>\n",
       "    <tr>\n",
       "      <th>3</th>\n",
       "      <td>real English from your</td>\n",
       "      <td>0.000</td>\n",
       "      <td>Neutral</td>\n",
       "    </tr>\n",
       "    <tr>\n",
       "      <th>4</th>\n",
       "      <td>English from your first</td>\n",
       "      <td>0.125</td>\n",
       "      <td>Positive</td>\n",
       "    </tr>\n",
       "    <tr>\n",
       "      <th>...</th>\n",
       "      <td>...</td>\n",
       "      <td>...</td>\n",
       "      <td>...</td>\n",
       "    </tr>\n",
       "    <tr>\n",
       "      <th>170</th>\n",
       "      <td>say not I do</td>\n",
       "      <td>0.000</td>\n",
       "      <td>Neutral</td>\n",
       "    </tr>\n",
       "    <tr>\n",
       "      <th>171</th>\n",
       "      <td>not I do n't</td>\n",
       "      <td>0.000</td>\n",
       "      <td>Neutral</td>\n",
       "    </tr>\n",
       "    <tr>\n",
       "      <th>172</th>\n",
       "      <td>I do n't know</td>\n",
       "      <td>0.000</td>\n",
       "      <td>Neutral</td>\n",
       "    </tr>\n",
       "    <tr>\n",
       "      <th>173</th>\n",
       "      <td>do n't know water</td>\n",
       "      <td>0.000</td>\n",
       "      <td>Neutral</td>\n",
       "    </tr>\n",
       "    <tr>\n",
       "      <th>174</th>\n",
       "      <td>n't know water if</td>\n",
       "      <td>0.000</td>\n",
       "      <td>Neutral</td>\n",
       "    </tr>\n",
       "  </tbody>\n",
       "</table>\n",
       "<p>175 rows × 3 columns</p>\n",
       "</div>"
      ],
      "text/plain": [
       "                      n-gram  sentiment_score sentiment_label\n",
       "0         want to speak real            0.200        Positive\n",
       "1      to speak real English            0.000         Neutral\n",
       "2    speak real English from            0.000         Neutral\n",
       "3     real English from your            0.000         Neutral\n",
       "4    English from your first            0.125        Positive\n",
       "..                       ...              ...             ...\n",
       "170             say not I do            0.000         Neutral\n",
       "171             not I do n't            0.000         Neutral\n",
       "172            I do n't know            0.000         Neutral\n",
       "173        do n't know water            0.000         Neutral\n",
       "174        n't know water if            0.000         Neutral\n",
       "\n",
       "[175 rows x 3 columns]"
      ]
     },
     "execution_count": 46,
     "metadata": {},
     "output_type": "execute_result"
    }
   ],
   "source": [
    "df_results"
   ]
  },
  {
   "cell_type": "code",
   "execution_count": 47,
   "id": "a5a519e5-ccfc-444c-8f51-076c8952e856",
   "metadata": {},
   "outputs": [
    {
     "data": {
      "text/plain": [
       "array([[<AxesSubplot:title={'center':'sentiment_score'}>]], dtype=object)"
      ]
     },
     "execution_count": 47,
     "metadata": {},
     "output_type": "execute_result"
    },
    {
     "data": {
      "image/png": "[encoded data removed]",
      "text/plain": [
       "<Figure size 432x288 with 1 Axes>"
      ]
     },
     "metadata": {
      "needs_background": "light"
     },
     "output_type": "display_data"
    }
   ],
   "source": [
    "df_results.hist()"
   ]
  },
  {
   "cell_type": "code",
   "execution_count": 48,
   "id": "1000d957-2c0f-4e82-b496-ef398ad9f6e9",
   "metadata": {},
   "outputs": [
    {
     "data": {
      "text/plain": [
       "<AxesSubplot:xlabel='sentiment_label', ylabel='sentiment_score'>"
      ]
     },
     "execution_count": 48,
     "metadata": {},
     "output_type": "execute_result"
    },
    {
     "data": {
      "image/png": "[encoded data removed]",
      "text/plain": [
       "<Figure size 432x288 with 1 Axes>"
      ]
     },
     "metadata": {
      "needs_background": "light"
     },
     "output_type": "display_data"
    }
   ],
   "source": [
    "sns.boxplot(data=df_results, x=\"sentiment_label\", y=\"sentiment_score\")"
   ]
  },
  {
   "cell_type": "code",
   "execution_count": 49,
   "id": "596e6909-8efe-4155-a007-2c1057ee4b17",
   "metadata": {},
   "outputs": [
    {
     "data": {
      "text/plain": [
       "<AxesSubplot:ylabel='sentiment_label'>"
      ]
     },
     "execution_count": 49,
     "metadata": {},
     "output_type": "execute_result"
    },
    {
     "data": {
      "image/png": "[encoded data removed]",
      "text/plain": [
       "<Figure size 432x288 with 1 Axes>"
      ]
     },
     "metadata": {},
     "output_type": "display_data"
    }
   ],
   "source": [
    "df_results.sentiment_label.value_counts().plot(kind='pie')"
   ]
  },
  {
   "cell_type": "code",
   "execution_count": 50,
   "id": "464b40ea-5b38-4976-ac3a-712e24d427a3",
   "metadata": {},
   "outputs": [
    {
     "data": {
      "text/html": [
       "<div>\n",
       "<style scoped>\n",
       "    .dataframe tbody tr th:only-of-type {\n",
       "        vertical-align: middle;\n",
       "    }\n",
       "\n",
       "    .dataframe tbody tr th {\n",
       "        vertical-align: top;\n",
       "    }\n",
       "\n",
       "    .dataframe thead th {\n",
       "        text-align: right;\n",
       "    }\n",
       "</style>\n",
       "<table border=\"1\" class=\"dataframe\">\n",
       "  <thead>\n",
       "    <tr style=\"text-align: right;\">\n",
       "      <th></th>\n",
       "      <th>n-gram</th>\n",
       "      <th>sentiment_score</th>\n",
       "      <th>sentiment_label</th>\n",
       "    </tr>\n",
       "  </thead>\n",
       "  <tbody>\n",
       "    <tr>\n",
       "      <th>152</th>\n",
       "      <td>your everyday life if</td>\n",
       "      <td>-0.2</td>\n",
       "      <td>Negative</td>\n",
       "    </tr>\n",
       "    <tr>\n",
       "      <th>150</th>\n",
       "      <td>situations in your everyday</td>\n",
       "      <td>-0.2</td>\n",
       "      <td>Negative</td>\n",
       "    </tr>\n",
       "    <tr>\n",
       "      <th>153</th>\n",
       "      <td>everyday life if I</td>\n",
       "      <td>-0.2</td>\n",
       "      <td>Negative</td>\n",
       "    </tr>\n",
       "    <tr>\n",
       "      <th>151</th>\n",
       "      <td>in your everyday life</td>\n",
       "      <td>-0.2</td>\n",
       "      <td>Negative</td>\n",
       "    </tr>\n",
       "    <tr>\n",
       "      <th>124</th>\n",
       "      <td>see a computer I</td>\n",
       "      <td>0.0</td>\n",
       "      <td>Neutral</td>\n",
       "    </tr>\n",
       "    <tr>\n",
       "      <th>127</th>\n",
       "      <td>I should n't think</td>\n",
       "      <td>0.0</td>\n",
       "      <td>Neutral</td>\n",
       "    </tr>\n",
       "    <tr>\n",
       "      <th>110</th>\n",
       "      <td>of them in your</td>\n",
       "      <td>0.0</td>\n",
       "      <td>Neutral</td>\n",
       "    </tr>\n",
       "    <tr>\n",
       "      <th>111</th>\n",
       "      <td>them in your target</td>\n",
       "      <td>0.0</td>\n",
       "      <td>Neutral</td>\n",
       "    </tr>\n",
       "    <tr>\n",
       "      <th>112</th>\n",
       "      <td>in your target language</td>\n",
       "      <td>0.0</td>\n",
       "      <td>Neutral</td>\n",
       "    </tr>\n",
       "    <tr>\n",
       "      <th>113</th>\n",
       "      <td>your target language so</td>\n",
       "      <td>0.0</td>\n",
       "      <td>Neutral</td>\n",
       "    </tr>\n",
       "    <tr>\n",
       "      <th>114</th>\n",
       "      <td>target language so if</td>\n",
       "      <td>0.0</td>\n",
       "      <td>Neutral</td>\n",
       "    </tr>\n",
       "    <tr>\n",
       "      <th>115</th>\n",
       "      <td>language so if I</td>\n",
       "      <td>0.0</td>\n",
       "      <td>Neutral</td>\n",
       "    </tr>\n",
       "    <tr>\n",
       "      <th>116</th>\n",
       "      <td>so if I look</td>\n",
       "      <td>0.0</td>\n",
       "      <td>Neutral</td>\n",
       "    </tr>\n",
       "    <tr>\n",
       "      <th>117</th>\n",
       "      <td>if I look around</td>\n",
       "      <td>0.0</td>\n",
       "      <td>Neutral</td>\n",
       "    </tr>\n",
       "    <tr>\n",
       "      <th>126</th>\n",
       "      <td>computer I should n't</td>\n",
       "      <td>0.0</td>\n",
       "      <td>Neutral</td>\n",
       "    </tr>\n",
       "    <tr>\n",
       "      <th>119</th>\n",
       "      <td>look around the room</td>\n",
       "      <td>0.0</td>\n",
       "      <td>Neutral</td>\n",
       "    </tr>\n",
       "    <tr>\n",
       "      <th>120</th>\n",
       "      <td>around the room I</td>\n",
       "      <td>0.0</td>\n",
       "      <td>Neutral</td>\n",
       "    </tr>\n",
       "    <tr>\n",
       "      <th>121</th>\n",
       "      <td>the room I see</td>\n",
       "      <td>0.0</td>\n",
       "      <td>Neutral</td>\n",
       "    </tr>\n",
       "    <tr>\n",
       "      <th>122</th>\n",
       "      <td>room I see a</td>\n",
       "      <td>0.0</td>\n",
       "      <td>Neutral</td>\n",
       "    </tr>\n",
       "    <tr>\n",
       "      <th>123</th>\n",
       "      <td>I see a computer</td>\n",
       "      <td>0.0</td>\n",
       "      <td>Neutral</td>\n",
       "    </tr>\n",
       "  </tbody>\n",
       "</table>\n",
       "</div>"
      ],
      "text/plain": [
       "                          n-gram  sentiment_score sentiment_label\n",
       "152        your everyday life if             -0.2        Negative\n",
       "150  situations in your everyday             -0.2        Negative\n",
       "153           everyday life if I             -0.2        Negative\n",
       "151        in your everyday life             -0.2        Negative\n",
       "124             see a computer I              0.0         Neutral\n",
       "127           I should n't think              0.0         Neutral\n",
       "110              of them in your              0.0         Neutral\n",
       "111          them in your target              0.0         Neutral\n",
       "112      in your target language              0.0         Neutral\n",
       "113      your target language so              0.0         Neutral\n",
       "114        target language so if              0.0         Neutral\n",
       "115             language so if I              0.0         Neutral\n",
       "116                 so if I look              0.0         Neutral\n",
       "117             if I look around              0.0         Neutral\n",
       "126        computer I should n't              0.0         Neutral\n",
       "119         look around the room              0.0         Neutral\n",
       "120            around the room I              0.0         Neutral\n",
       "121               the room I see              0.0         Neutral\n",
       "122                 room I see a              0.0         Neutral\n",
       "123             I see a computer              0.0         Neutral"
      ]
     },
     "execution_count": 50,
     "metadata": {},
     "output_type": "execute_result"
    }
   ],
   "source": [
    "df_results.sort_values('sentiment_score').head(20)"
   ]
  },
  {
   "cell_type": "code",
   "execution_count": 51,
   "id": "aa1b348d-d5f7-47be-953a-0a50067eec21",
   "metadata": {},
   "outputs": [
    {
     "data": {
      "text/html": [
       "<div>\n",
       "<style scoped>\n",
       "    .dataframe tbody tr th:only-of-type {\n",
       "        vertical-align: middle;\n",
       "    }\n",
       "\n",
       "    .dataframe tbody tr th {\n",
       "        vertical-align: top;\n",
       "    }\n",
       "\n",
       "    .dataframe thead th {\n",
       "        text-align: right;\n",
       "    }\n",
       "</style>\n",
       "<table border=\"1\" class=\"dataframe\">\n",
       "  <thead>\n",
       "    <tr style=\"text-align: right;\">\n",
       "      <th></th>\n",
       "      <th>n-gram</th>\n",
       "      <th>sentiment_score</th>\n",
       "      <th>sentiment_label</th>\n",
       "    </tr>\n",
       "  </thead>\n",
       "  <tbody>\n",
       "    <tr>\n",
       "      <th>22</th>\n",
       "      <td>name is Alicia welcome</td>\n",
       "      <td>0.800000</td>\n",
       "      <td>Positive</td>\n",
       "    </tr>\n",
       "    <tr>\n",
       "      <th>28</th>\n",
       "      <td>top words today we</td>\n",
       "      <td>0.500000</td>\n",
       "      <td>Positive</td>\n",
       "    </tr>\n",
       "    <tr>\n",
       "      <th>27</th>\n",
       "      <td>to top words today</td>\n",
       "      <td>0.500000</td>\n",
       "      <td>Positive</td>\n",
       "    </tr>\n",
       "    <tr>\n",
       "      <th>25</th>\n",
       "      <td>welcome back to top</td>\n",
       "      <td>0.433333</td>\n",
       "      <td>Positive</td>\n",
       "    </tr>\n",
       "    <tr>\n",
       "      <th>24</th>\n",
       "      <td>Alicia welcome back to</td>\n",
       "      <td>0.400000</td>\n",
       "      <td>Positive</td>\n",
       "    </tr>\n",
       "    <tr>\n",
       "      <th>23</th>\n",
       "      <td>is Alicia welcome back</td>\n",
       "      <td>0.400000</td>\n",
       "      <td>Positive</td>\n",
       "    </tr>\n",
       "    <tr>\n",
       "      <th>10</th>\n",
       "      <td>up for your free</td>\n",
       "      <td>0.400000</td>\n",
       "      <td>Positive</td>\n",
       "    </tr>\n",
       "    <tr>\n",
       "      <th>11</th>\n",
       "      <td>for your free lifetime</td>\n",
       "      <td>0.400000</td>\n",
       "      <td>Positive</td>\n",
       "    </tr>\n",
       "    <tr>\n",
       "      <th>12</th>\n",
       "      <td>your free lifetime account</td>\n",
       "      <td>0.400000</td>\n",
       "      <td>Positive</td>\n",
       "    </tr>\n",
       "    <tr>\n",
       "      <th>13</th>\n",
       "      <td>free lifetime account at</td>\n",
       "      <td>0.400000</td>\n",
       "      <td>Positive</td>\n",
       "    </tr>\n",
       "    <tr>\n",
       "      <th>105</th>\n",
       "      <td>your native language first</td>\n",
       "      <td>0.250000</td>\n",
       "      <td>Positive</td>\n",
       "    </tr>\n",
       "    <tr>\n",
       "      <th>55</th>\n",
       "      <td>the first way to</td>\n",
       "      <td>0.250000</td>\n",
       "      <td>Positive</td>\n",
       "    </tr>\n",
       "    <tr>\n",
       "      <th>26</th>\n",
       "      <td>back to top words</td>\n",
       "      <td>0.250000</td>\n",
       "      <td>Positive</td>\n",
       "    </tr>\n",
       "    <tr>\n",
       "      <th>108</th>\n",
       "      <td>first think of them</td>\n",
       "      <td>0.250000</td>\n",
       "      <td>Positive</td>\n",
       "    </tr>\n",
       "    <tr>\n",
       "      <th>107</th>\n",
       "      <td>language first think of</td>\n",
       "      <td>0.250000</td>\n",
       "      <td>Positive</td>\n",
       "    </tr>\n",
       "    <tr>\n",
       "      <th>106</th>\n",
       "      <td>native language first think</td>\n",
       "      <td>0.250000</td>\n",
       "      <td>Positive</td>\n",
       "    </tr>\n",
       "    <tr>\n",
       "      <th>56</th>\n",
       "      <td>first way to stop</td>\n",
       "      <td>0.250000</td>\n",
       "      <td>Positive</td>\n",
       "    </tr>\n",
       "    <tr>\n",
       "      <th>7</th>\n",
       "      <td>first lesson sign up</td>\n",
       "      <td>0.250000</td>\n",
       "      <td>Positive</td>\n",
       "    </tr>\n",
       "    <tr>\n",
       "      <th>6</th>\n",
       "      <td>your first lesson sign</td>\n",
       "      <td>0.250000</td>\n",
       "      <td>Positive</td>\n",
       "    </tr>\n",
       "    <tr>\n",
       "      <th>5</th>\n",
       "      <td>from your first lesson</td>\n",
       "      <td>0.250000</td>\n",
       "      <td>Positive</td>\n",
       "    </tr>\n",
       "  </tbody>\n",
       "</table>\n",
       "</div>"
      ],
      "text/plain": [
       "                          n-gram  sentiment_score sentiment_label\n",
       "22        name is Alicia welcome         0.800000        Positive\n",
       "28            top words today we         0.500000        Positive\n",
       "27            to top words today         0.500000        Positive\n",
       "25           welcome back to top         0.433333        Positive\n",
       "24        Alicia welcome back to         0.400000        Positive\n",
       "23        is Alicia welcome back         0.400000        Positive\n",
       "10              up for your free         0.400000        Positive\n",
       "11        for your free lifetime         0.400000        Positive\n",
       "12    your free lifetime account         0.400000        Positive\n",
       "13      free lifetime account at         0.400000        Positive\n",
       "105   your native language first         0.250000        Positive\n",
       "55              the first way to         0.250000        Positive\n",
       "26             back to top words         0.250000        Positive\n",
       "108          first think of them         0.250000        Positive\n",
       "107      language first think of         0.250000        Positive\n",
       "106  native language first think         0.250000        Positive\n",
       "56             first way to stop         0.250000        Positive\n",
       "7           first lesson sign up         0.250000        Positive\n",
       "6         your first lesson sign         0.250000        Positive\n",
       "5         from your first lesson         0.250000        Positive"
      ]
     },
     "execution_count": 51,
     "metadata": {},
     "output_type": "execute_result"
    }
   ],
   "source": [
    "df_results.sort_values('sentiment_score', ascending=False).head(20)"
   ]
  },
  {
   "cell_type": "code",
   "execution_count": 52,
   "id": "91271c8b-c566-42ef-b9ea-d6ec8f16a27e",
   "metadata": {},
   "outputs": [],
   "source": [
    "# mask = np.array(Image.open('flower.png'))"
   ]
  },
  {
   "cell_type": "code",
   "execution_count": 53,
   "id": "668f9233-a719-4917-a68c-3aaf8ef41c17",
   "metadata": {},
   "outputs": [],
   "source": [
    "# wc = WordCloud(stopwords=STOPWORDS, font_path=r'C:\\Windows\\Fonts\\Verdana.ttf',\n",
    "#                mask=mask, background_color=\"white\",\n",
    "#                max_words=2000, max_font_size=256,\n",
    "#                random_state=42, width=mask.shape[1],\n",
    "#                height=mask.shape[0])\n",
    "# wc.generate(lines_lemma)\n",
    "# plt.imshow(wc, interpolation=\"bilinear\")\n",
    "# plt.axis('off')\n",
    "# plt.show()\n",
    "# wc.to_file(\"wordcloud_flower.png\")"
   ]
  },
  {
   "cell_type": "markdown",
   "id": "ac1c2a18-e3d8-4b60-a2f4-c0b4f14df916",
   "metadata": {},
   "source": [
    "### VADER"
   ]
  },
  {
   "cell_type": "code",
   "execution_count": 54,
   "id": "3680ed83-8598-44f9-bc54-9f3c430e7609",
   "metadata": {},
   "outputs": [],
   "source": [
    "# https://stackoverflow.com/questions/40325980/how-is-the-vader-compound-polarity-score-calculated-in-python-nltk "
   ]
  },
  {
   "cell_type": "code",
   "execution_count": 55,
   "id": "2118d0d6-c80a-444f-8176-0c9da08e1976",
   "metadata": {},
   "outputs": [],
   "source": [
    "analyzer = SentimentIntensityAnalyzer()"
   ]
  },
  {
   "cell_type": "code",
   "execution_count": 56,
   "id": "d10d7952-d1f9-4804-97ad-e5b638a9777e",
   "metadata": {},
   "outputs": [
    {
     "data": {
      "text/html": [
       "<div>\n",
       "<style scoped>\n",
       "    .dataframe tbody tr th:only-of-type {\n",
       "        vertical-align: middle;\n",
       "    }\n",
       "\n",
       "    .dataframe tbody tr th {\n",
       "        vertical-align: top;\n",
       "    }\n",
       "\n",
       "    .dataframe thead th {\n",
       "        text-align: right;\n",
       "    }\n",
       "</style>\n",
       "<table border=\"1\" class=\"dataframe\">\n",
       "  <thead>\n",
       "    <tr style=\"text-align: right;\">\n",
       "      <th></th>\n",
       "      <th>n-gram</th>\n",
       "      <th>pos</th>\n",
       "      <th>neg</th>\n",
       "      <th>neu</th>\n",
       "      <th>compound</th>\n",
       "      <th>sentiment_label</th>\n",
       "    </tr>\n",
       "  </thead>\n",
       "  <tbody>\n",
       "  </tbody>\n",
       "</table>\n",
       "</div>"
      ],
      "text/plain": [
       "Empty DataFrame\n",
       "Columns: [n-gram, pos, neg, neu, compound, sentiment_label]\n",
       "Index: []"
      ]
     },
     "execution_count": 56,
     "metadata": {},
     "output_type": "execute_result"
    }
   ],
   "source": [
    "df_results_vader"
   ]
  },
  {
   "cell_type": "code",
   "execution_count": 57,
   "id": "060400f8-c6c7-46ac-93c9-10cf871eee0c",
   "metadata": {},
   "outputs": [],
   "source": [
    "for ngram in ngrams:\n",
    "    ngram_str = ' '.join(ngram)\n",
    "    sentiment = analyzer.polarity_scores(ngram_str)\n",
    "    if sentiment['compound'] < 0:\n",
    "        neg_words_str_vader += \" \" +  ' '.join(ngram)\n",
    "        df_results_vader = df_results_vader.append({'n-gram': ' '.join(ngram), 'pos': sentiment['pos'], 'neg': sentiment['neg'], 'neu':sentiment['neu'], 'compound': sentiment['compound'], 'sentiment_label': 'Negative'}, ignore_index=True)\n",
    "    if sentiment['compound'] > 0:\n",
    "        pos_words_str_vader += \" \" +  ' '.join(ngram)\n",
    "        df_results_vader = df_results_vader.append({'n-gram': ' '.join(ngram), 'pos': sentiment['pos'], 'neg': sentiment['neg'], 'neu':sentiment['neu'], 'compound': sentiment['compound'], 'sentiment_label': 'Positive'}, ignore_index=True)\n",
    "    if sentiment['compound'] == 0:\n",
    "        df_results_vader = df_results_vader.append({'n-gram': ' '.join(ngram), 'pos': sentiment['pos'], 'neg': sentiment['neg'], 'neu':sentiment['neu'], 'compound': sentiment['compound'], 'sentiment_label': 'Neutral'}, ignore_index=True)"
   ]
  },
  {
   "cell_type": "code",
   "execution_count": 58,
   "id": "ef0b8ce9-ccda-4bf8-9bed-f0a2cf0ad427",
   "metadata": {},
   "outputs": [
    {
     "ename": "NameError",
     "evalue": "name 'random_color_func' is not defined",
     "output_type": "error",
     "traceback": [
      "\u001b[1;31m---------------------------------------------------------------------------\u001b[0m",
      "\u001b[1;31mNameError\u001b[0m                                 Traceback (most recent call last)",
      "\u001b[1;32m~\\AppData\\Local\\Temp/ipykernel_17268/2872933098.py\u001b[0m in \u001b[0;36m<module>\u001b[1;34m\u001b[0m\n\u001b[0;32m      4\u001b[0m                             \u001b[0mwidth\u001b[0m \u001b[1;33m=\u001b[0m \u001b[1;36m1200\u001b[0m\u001b[1;33m,\u001b[0m\u001b[1;33m\u001b[0m\u001b[1;33m\u001b[0m\u001b[0m\n\u001b[0;32m      5\u001b[0m                             \u001b[0mheight\u001b[0m \u001b[1;33m=\u001b[0m \u001b[1;36m1000\u001b[0m\u001b[1;33m,\u001b[0m\u001b[1;33m\u001b[0m\u001b[1;33m\u001b[0m\u001b[0m\n\u001b[1;32m----> 6\u001b[1;33m                             \u001b[0mcolor_func\u001b[0m \u001b[1;33m=\u001b[0m \u001b[0mrandom_color_func\u001b[0m\u001b[1;33m\u001b[0m\u001b[1;33m\u001b[0m\u001b[0m\n\u001b[0m\u001b[0;32m      7\u001b[0m                             ).generate(neg_words_str_vader)\n\u001b[0;32m      8\u001b[0m \u001b[0mplt\u001b[0m\u001b[1;33m.\u001b[0m\u001b[0mimshow\u001b[0m\u001b[1;33m(\u001b[0m\u001b[0mwordcloud\u001b[0m\u001b[1;33m)\u001b[0m\u001b[1;33m\u001b[0m\u001b[1;33m\u001b[0m\u001b[0m\n",
      "\u001b[1;31mNameError\u001b[0m: name 'random_color_func' is not defined"
     ]
    }
   ],
   "source": [
    "wordcloud = WordCloud(font_path = r'C:\\Windows\\Fonts\\Verdana.ttf',\n",
    "                            stopwords = STOPWORDS,\n",
    "                            background_color = 'white',\n",
    "                            width = 1200,\n",
    "                            height = 1000,\n",
    "                            color_func = random_color_func\n",
    "                            ).generate(neg_words_str_vader)\n",
    "plt.imshow(wordcloud)\n",
    "plt.axis('off')\n",
    "plt.show()"
   ]
  },
  {
   "cell_type": "code",
   "execution_count": null,
   "id": "74823c2f-a243-4ea5-b293-e22a6525dc47",
   "metadata": {},
   "outputs": [],
   "source": [
    "wordcloud = WordCloud(font_path = r'C:\\Windows\\Fonts\\Verdana.ttf',\n",
    "                            stopwords = STOPWORDS,\n",
    "                            background_color = 'white',\n",
    "                            width = 1200,\n",
    "                            height = 1000,\n",
    "                            color_func = random_color_func\n",
    "                            ).generate(pos_words_str_vader)\n",
    "plt.imshow(wordcloud)\n",
    "plt.axis('off')\n",
    "plt.show()"
   ]
  },
  {
   "cell_type": "code",
   "execution_count": null,
   "id": "37935dd7-8def-492c-bfa0-ce5fe50e3c27",
   "metadata": {},
   "outputs": [],
   "source": [
    "df_results_vader"
   ]
  },
  {
   "cell_type": "code",
   "execution_count": null,
   "id": "d99cafd7-8f3b-488c-819e-dfbaa7eede4d",
   "metadata": {},
   "outputs": [],
   "source": [
    "df_results_vader.sort_values('compound', ascending=False).head(20)"
   ]
  },
  {
   "cell_type": "code",
   "execution_count": null,
   "id": "77068117-b45d-4bd6-abe4-cf2fbdd237e9",
   "metadata": {},
   "outputs": [],
   "source": [
    "df_results_vader.sort_values('compound').head(20)"
   ]
  },
  {
   "cell_type": "code",
   "execution_count": null,
   "id": "02b0adeb-5950-4e77-894a-c2ae170bdc8e",
   "metadata": {},
   "outputs": [],
   "source": [
    "df_results_vader.sentiment_label.value_counts().plot(kind='pie')"
   ]
  },
  {
   "cell_type": "code",
   "execution_count": null,
   "id": "49fffda4-e2c5-4283-922b-a38043e33062",
   "metadata": {},
   "outputs": [],
   "source": [
    "sns.histplot(df_results_vader.compound)"
   ]
  },
  {
   "cell_type": "code",
   "execution_count": null,
   "id": "c6267182-db39-4af7-b7c3-8815b4bbab1f",
   "metadata": {},
   "outputs": [],
   "source": [
    "sns.boxplot(data=df_results_vader, x=\"sentiment_label\", y=\"compound\")"
   ]
  },
  {
   "cell_type": "code",
   "execution_count": null,
   "id": "2271473a-69de-43dc-99da-29a675917e6c",
   "metadata": {},
   "outputs": [],
   "source": []
  }
 ],
 "metadata": {
  "kernelspec": {
   "display_name": "Python 3 (ipykernel)",
   "language": "python",
   "name": "python3"
  },
  "language_info": {
   "codemirror_mode": {
    "name": "ipython",
    "version": 3
   },
   "file_extension": ".py",
   "mimetype": "text/x-python",
   "name": "python",
   "nbconvert_exporter": "python",
   "pygments_lexer": "ipython3",
   "version": "3.8.9"
  }
 },
 "nbformat": 4,
 "nbformat_minor": 5
}
