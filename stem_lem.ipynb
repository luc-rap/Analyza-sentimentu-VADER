{
 "cells": [
  {
   "cell_type": "code",
   "execution_count": 1,
   "id": "81d0fd10-2c1d-4a08-900c-4839e577df73",
   "metadata": {},
   "outputs": [],
   "source": [
    "from nltk.stem import PorterStemmer\n",
    "from nltk.stem import LancasterStemmer\n",
    "from nltk.stem import WordNetLemmatizer\n",
    "from nltk.corpus import wordnet\n",
    "import nltk"
   ]
  },
  {
   "cell_type": "code",
   "execution_count": 2,
   "id": "c0c86bf1-ddfb-4723-9169-010022de9412",
   "metadata": {},
   "outputs": [],
   "source": [
    "#pos_dict = {'J':wordnet.ADJ, 'V':wordnet.VERB, 'N':wordnet.NOUN, 'R':wordnet.ADV}"
   ]
  },
  {
   "cell_type": "code",
   "execution_count": 3,
   "id": "dbf247d5-fbd9-4260-8188-7a916a6748a5",
   "metadata": {},
   "outputs": [],
   "source": [
    "wordnet_lemmatizer = WordNetLemmatizer()\n",
    "porter = PorterStemmer()\n",
    "lancaster=LancasterStemmer()"
   ]
  },
  {
   "cell_type": "code",
   "execution_count": 4,
   "id": "b2aca9be-a9a4-40d1-bdae-3528294d0801",
   "metadata": {},
   "outputs": [],
   "source": [
    "# lemma = wordnet_lemmatizer.lemmatize(word, pos=pos)"
   ]
  },
  {
   "cell_type": "code",
   "execution_count": 5,
   "id": "c10a628e-bc8a-4f36-ab75-a7641cd53ec9",
   "metadata": {},
   "outputs": [
    {
     "name": "stdout",
     "output_type": "stream",
     "text": [
      "troubl\n"
     ]
    }
   ],
   "source": [
    "print(porter.stem(\"troubling\"))"
   ]
  },
  {
   "cell_type": "code",
   "execution_count": 6,
   "id": "a6df6aa6-4233-4f0c-a2a9-750b720c2cf5",
   "metadata": {},
   "outputs": [
    {
     "name": "stdout",
     "output_type": "stream",
     "text": [
      "troubl\n"
     ]
    }
   ],
   "source": [
    "print(lancaster.stem(\"troubling\"))"
   ]
  },
  {
   "cell_type": "code",
   "execution_count": 7,
   "id": "06741a73-a9b1-47dd-b9d8-1cebc6960b7b",
   "metadata": {},
   "outputs": [
    {
     "name": "stdout",
     "output_type": "stream",
     "text": [
      "troubling\n"
     ]
    }
   ],
   "source": [
    "print(wordnet_lemmatizer.lemmatize('troubling', wordnet.ADJ))"
   ]
  },
  {
   "cell_type": "code",
   "execution_count": 8,
   "id": "712314ff-58cb-4e56-afad-47d0d397e4bc",
   "metadata": {},
   "outputs": [
    {
     "name": "stdout",
     "output_type": "stream",
     "text": [
      "trouble\n"
     ]
    }
   ],
   "source": [
    "print(wordnet_lemmatizer.lemmatize('troubles', wordnet.NOUN))"
   ]
  },
  {
   "cell_type": "code",
   "execution_count": 17,
   "id": "54c3aded-0439-49ac-a180-ce18c6c54c9d",
   "metadata": {},
   "outputs": [
    {
     "name": "stdout",
     "output_type": "stream",
     "text": [
      "famous\n",
      "famished\n"
     ]
    }
   ],
   "source": [
    "print(wordnet_lemmatizer.lemmatize('famous', wordnet.ADJ))\n",
    "print(wordnet_lemmatizer.lemmatize('famished', wordnet.ADJ))"
   ]
  },
  {
   "cell_type": "code",
   "execution_count": 16,
   "id": "f6b7e424-bbb3-4dc5-a73c-3deafb101ade",
   "metadata": {},
   "outputs": [
    {
     "name": "stdout",
     "output_type": "stream",
     "text": [
      "defens\n",
      "defens\n",
      "fam\n",
      "fam\n"
     ]
    }
   ],
   "source": [
    "print(porter.stem(\"defense\"))\n",
    "print(porter.stem(\"defensive\"))\n",
    "\n",
    "print(lancaster.stem(\"famous\"))\n",
    "print(lancaster.stem(\"famished\"))"
   ]
  },
  {
   "cell_type": "code",
   "execution_count": null,
   "id": "6ee73f00-acd2-4e3c-b87f-3eb49c1bcf33",
   "metadata": {},
   "outputs": [],
   "source": []
  }
 ],
 "metadata": {
  "kernelspec": {
   "display_name": "Python 3 (ipykernel)",
   "language": "python",
   "name": "python3"
  },
  "language_info": {
   "codemirror_mode": {
    "name": "ipython",
    "version": 3
   },
   "file_extension": ".py",
   "mimetype": "text/x-python",
   "name": "python",
   "nbconvert_exporter": "python",
   "pygments_lexer": "ipython3",
   "version": "3.8.9"
  }
 },
 "nbformat": 4,
 "nbformat_minor": 5
}
