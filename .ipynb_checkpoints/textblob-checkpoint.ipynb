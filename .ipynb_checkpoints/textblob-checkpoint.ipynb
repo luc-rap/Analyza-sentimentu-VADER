{
 "cells": [
  {
   "cell_type": "code",
   "execution_count": 1,
   "id": "93c5aa7c-8f15-4411-b0bd-93b6a78c6830",
   "metadata": {},
   "outputs": [],
   "source": [
    "from textblob import TextBlob\n",
    "import re\n",
    "from nltk import word_tokenize \n",
    "from nltk import pos_tag\n",
    "import nltk\n",
    "from nltk.corpus import stopwords\n",
    "from nltk.corpus import wordnet\n",
    "from nltk.stem import WordNetLemmatizer\n",
    "from wordcloud import WordCloud, STOPWORDS\n",
    "import matplotlib.pyplot as plt\n",
    "import pandas as pd\n",
    "import seaborn as sns\n",
    "from PIL import Image\n",
    "import numpy as np\n",
    "from vaderSentiment.vaderSentiment import SentimentIntensityAnalyzer"
   ]
  },
  {
   "cell_type": "code",
   "execution_count": 2,
   "id": "695c4cb6-26df-40f0-acc8-70c6f0fe9439",
   "metadata": {},
   "outputs": [],
   "source": [
    "df_azure_speech = pd.DataFrame(columns=['Sentence', 'Pre-processed sentence', 'textblob-subjectivity', 'vader-pos', 'vader-neg', 'vader-neu', 'vader-compound', 'vader-polarity', 'sentiment-category'])\n",
    "pos_words_str_vader = \"\"\n",
    "neg_words_str_vader = \"\""
   ]
  },
  {
   "cell_type": "code",
   "execution_count": null,
   "id": "0b512a36-7e35-402a-ae72-8f1ce7dac2e6",
   "metadata": {},
   "outputs": [],
   "source": []
  },
  {
   "cell_type": "code",
   "execution_count": 3,
   "id": "b0145a87-14ca-4a8e-b352-57de89a96f71",
   "metadata": {},
   "outputs": [],
   "source": [
    "contractions = {\n",
    "\"ain't\": \"am not\",\n",
    "\"aren't\": \"are not\",\n",
    "\"can't\": \"cannot\",\n",
    "\"can't've\": \"cannot have\",\n",
    "\"'cause\": \"because\",\n",
    "\"could've\": \"could have\",\n",
    "\"couldn't\": \"could not\",\n",
    "\"couldn't've\": \"could not have\",\n",
    "\"didn't\": \"did not\",\n",
    "\"doesn't\": \"does not\",\n",
    "\"don't\": \"do not\",\n",
    "\"hadn't\": \"had not\",\n",
    "\"hadn't've\": \"had not have\",\n",
    "\"hasn't\": \"has not\",\n",
    "\"haven't\": \"have not\",\n",
    "\"he'd\": \"he had he would\",\n",
    "\"he'd've\": \"he would have\",\n",
    "\"he'll\": \"he will\",\n",
    "\"he'll've\": \"he shall have he will have\",\n",
    "\"he's\": \"he has he is\",\n",
    "\"how'd\": \"how did\",\n",
    "\"how'd'y\": \"how do you\",\n",
    "\"how'll\": \"how will\",\n",
    "\"how's\": \"how has how is\",\n",
    "\"i'd\": \"I had I would\",\n",
    "\"i'd've\": \"I would have\",\n",
    "\"i'll\": \"I shall I will\",\n",
    "\"i'll've\": \"I shall have I will have\",\n",
    "\"i'm\": \"I am\",\n",
    "\"i've\": \"I have\",\n",
    "\"isn't\": \"is not\",\n",
    "\"it'd\": \"it had it would\",\n",
    "\"it'd've\": \"it would have\",\n",
    "\"it'll\": \"it shall it will\",\n",
    "\"it'll've\": \"it shall have it will have\",\n",
    "\"it's\": \"it has it is\",\n",
    "\"let's\": \"let us\",\n",
    "\"ma'am\": \"madam\",\n",
    "\"mayn't\": \"may not\",\n",
    "\"might've\": \"might have\",\n",
    "\"mightn't\": \"might not\",\n",
    "\"mightn't've\": \"might not have\",\n",
    "\"must've\": \"must have\",\n",
    "\"mustn't\": \"must not\",\n",
    "\"mustn't've\": \"must not have\",\n",
    "\"needn't\": \"need not\",\n",
    "\"needn't've\": \"need not have\",\n",
    "\"o'clock\": \"of the clock\",\n",
    "\"oughtn't\": \"ought not\",\n",
    "\"oughtn't've\": \"ought not have\",\n",
    "\"shan't\": \"shall not\",\n",
    "\"sha'n't\": \"shall not\",\n",
    "\"shan't've\": \"shall not have\",\n",
    "\"she'd\": \"she had she would\",\n",
    "\"she'd've\": \"she would have\",\n",
    "\"she'll\": \"she shall she will\",\n",
    "\"she'll've\": \"she shall have she will have\",\n",
    "\"she's\": \"she has she is\",\n",
    "\"should've\": \"should have\",\n",
    "\"shouldn't\": \"should not\",\n",
    "\"shouldn't've\": \"should not have\",\n",
    "\"so've\": \"so have\",\n",
    "\"so's\": \"so as so is\",\n",
    "\"that'd\": \"that would that had\",\n",
    "\"that'd've\": \"that would have\",\n",
    "\"that's\": \"that has that is\",\n",
    "\"there'd\": \"there had there would\",\n",
    "\"there'd've\": \"there would have\",\n",
    "\"there's\": \"there has there is\",\n",
    "\"they'd\": \"they had they would\",\n",
    "\"they'd've\": \"they would have\",\n",
    "\"they'll\": \"they shall they will\",\n",
    "\"they'll've\": \"they shall have they will have\",\n",
    "\"they're\": \"they are\",\n",
    "\"they've\": \"they have\",\n",
    "\"to've\": \"to have\",\n",
    "\"wasn't\": \"was not\",\n",
    "\"we'd\": \"we had we would\",\n",
    "\"we'd've\": \"we would have\",\n",
    "\"we'll\": \"we will\",\n",
    "\"we'll've\": \"we will have\",\n",
    "\"we're\": \"we are\",\n",
    "\"we've\": \"we have\",\n",
    "\"weren't\": \"were not\",\n",
    "\"what'll\": \"what shall what will\",\n",
    "\"what'll've\": \"what shall have / what will have\",\n",
    "\"what're\": \"what are\",\n",
    "\"what's\": \"what has what is\",\n",
    "\"what've\": \"what have\",\n",
    "\"when's\": \"when has when is\",\n",
    "\"when've\": \"when have\",\n",
    "\"where'd\": \"where did\",\n",
    "\"where's\": \"where has where is\",\n",
    "\"where've\": \"where have\",\n",
    "\"who'll\": \"who shall who will\",\n",
    "\"who'll've\": \"who shall have who will have\",\n",
    "\"who's\": \"who has who is\",\n",
    "\"who've\": \"who have\",\n",
    "\"why's\": \"why has why is\",\n",
    "\"why've\": \"why have\",\n",
    "\"will've\": \"will have\",\n",
    "\"won't\": \"will not\",\n",
    "\"won't've\": \"will not have\",\n",
    "\"would've\": \"would have\",\n",
    "\"wouldn't\": \"would not\",\n",
    "\"wouldn't've\": \"would not have\",\n",
    "\"y'all\": \"you all\",\n",
    "\"y'all'd\": \"you all would\",\n",
    "\"y'all'd've\": \"you all would have\",\n",
    "\"y'all're\": \"you all are\",\n",
    "\"y'all've\": \"you all have\",\n",
    "\"you'd\": \"you had you would\",\n",
    "\"you'd've\": \"you would have\",\n",
    "\"you'll\": \"you shall you will\",\n",
    "\"you'll've\": \"you shall have you will have\",\n",
    "\"you're\": \"you are\",\n",
    "\"you've\": \"you have\"\n",
    "}"
   ]
  },
  {
   "cell_type": "code",
   "execution_count": 4,
   "id": "16e8afe8-faf2-46d0-b9d3-4fe44ebe921f",
   "metadata": {},
   "outputs": [],
   "source": [
    "sentiment_category = {\n",
    "    'Satisfaction' : ['like', 'love', 'enjoy', 'appreciate'], # like - nejednoznacne \n",
    "    'Dissatisfaction' : ['hate', 'dislike'],\n",
    "    'Confusion' : ['confuse', 'stuck', 'puzzle'],\n",
    "    'Expectation' : ['expect', 'hope', 'anticipate', 'assume', 'suppose'], # think but... hope to find ... look for\n",
    "    'Suggestion' : ['prefer', 'preferable', 'favor', 'suggest'] # 'like better', 'go for'\n",
    "}"
   ]
  },
  {
   "cell_type": "code",
   "execution_count": 5,
   "id": "263603f4-dc9e-436b-8ae8-9e1e705658e4",
   "metadata": {},
   "outputs": [
    {
     "name": "stdout",
     "output_type": "stream",
     "text": [
      "['I like this website.', 'This website is like really bad.', 'I have seen something like this before.', 'I was like, I will go mad.', \"I was like I don't realy know what to do now.\", \"It looked like the website wasn't updated.\"]\n",
      "I like this website.\n",
      "This website is like really bad.\n",
      "I have seen something like this before.\n",
      "I was like, I will go mad.\n",
      "I was like I don't realy know what to do now.\n",
      "It looked like the website wasn't updated.\n"
     ]
    }
   ],
   "source": [
    "with open(\"speech/like_test.txt\", 'r') as transcript_sentences:\n",
    "    text = transcript_sentences.read()\n",
    "\n",
    "sentences = nltk.tokenize.sent_tokenize(text)\n",
    "\n",
    "print(sentences)\n",
    "\n",
    "for sentence in sentences:\n",
    "    print(sentence)"
   ]
  },
  {
   "cell_type": "code",
   "execution_count": 6,
   "id": "f4edb77e-6399-4f21-8c86-c78612571561",
   "metadata": {},
   "outputs": [
    {
     "name": "stdout",
     "output_type": "stream",
     "text": [
      "['I like this website', 'This website is like really bad', 'I have seen something like this before', 'I was like I will go mad', 'I was like I do not realy know what to do now', 'It looked like the website was not updated']\n"
     ]
    }
   ],
   "source": [
    "def clean_sentences(text):\n",
    "    for word in text.split():\n",
    "        if word.lower() in contractions:\n",
    "            text = text.replace(word, contractions[word.lower()])\n",
    "    text = re.sub(r'[^\\w\\s]', '', text)\n",
    "    return text\n",
    "\n",
    "lines_clean = []\n",
    "for sentence in sentences:\n",
    "    lines_clean.append(clean_sentences(sentence))\n",
    "    \n",
    "print(lines_clean)"
   ]
  },
  {
   "cell_type": "code",
   "execution_count": 7,
   "id": "e415980b-8b7e-4a65-923e-2b0a3092589e",
   "metadata": {},
   "outputs": [],
   "source": [
    "pos_dict = {'J': wordnet.ADJ, 'V': wordnet.VERB, 'N': wordnet.NOUN, 'R': wordnet.ADV}\n",
    "def token_stop_pos(text):\n",
    "    tags = pos_tag(word_tokenize(str(text)))\n",
    "    newlist = []\n",
    "    for word, tag in tags:\n",
    "        newlist.append(tuple([word, pos_dict.get(tag[0])]))\n",
    "    return newlist"
   ]
  },
  {
   "cell_type": "code",
   "execution_count": 8,
   "id": "c542c862-96f9-45be-ac58-bf2a66d8b1b4",
   "metadata": {},
   "outputs": [
    {
     "name": "stdout",
     "output_type": "stream",
     "text": [
      "[[('I', None), ('like', 'v'), ('this', None), ('website', 'n')], [('This', None), ('website', 'n'), ('is', 'v'), ('like', None), ('really', 'r'), ('bad', 'a')], [('I', None), ('have', 'v'), ('seen', 'v'), ('something', 'n'), ('like', None), ('this', None), ('before', None)], [('I', None), ('was', 'v'), ('like', None), ('I', None), ('will', None), ('go', 'v'), ('mad', 'a')], [('I', None), ('was', 'v'), ('like', None), ('I', None), ('do', 'v'), ('not', 'r'), ('realy', 'v'), ('know', 'v'), ('what', None), ('to', None), ('do', 'v'), ('now', 'r')], [('It', None), ('looked', 'v'), ('like', None), ('the', None), ('website', 'n'), ('was', 'v'), ('not', 'r'), ('updated', 'a')]]\n"
     ]
    }
   ],
   "source": [
    "lines_token_pos = []\n",
    "for sentence in lines_clean:\n",
    "    lines_token_pos.append(token_stop_pos(sentence))\n",
    "\n",
    "print(lines_token_pos)"
   ]
  },
  {
   "cell_type": "code",
   "execution_count": 9,
   "id": "eb67805c-5f46-4d35-b981-55a3672cc666",
   "metadata": {},
   "outputs": [],
   "source": [
    "wordnet_lemmatizer = WordNetLemmatizer()     "
   ]
  },
  {
   "cell_type": "code",
   "execution_count": 10,
   "id": "ab8f3117-47e6-4645-8f19-caa8a393d929",
   "metadata": {},
   "outputs": [],
   "source": [
    "def lemmatize_(text):\n",
    "    lemmatized_sentence = []\n",
    "    for word, tag in text:\n",
    "        if tag is None:\n",
    "            if word.lower() == \"like\":\n",
    "                lemmatized_sentence.append(word + '-(NON-STANDARD)')\n",
    "            else:\n",
    "                lemmatized_sentence.append(word)\n",
    "        else:       \n",
    "            lemmatized_sentence.append(wordnet_lemmatizer.lemmatize(word, tag))\n",
    "    #lemmatized_sentence = \" \".join(lemmatized_sentence)\n",
    "    \n",
    "    return lemmatized_sentence"
   ]
  },
  {
   "cell_type": "code",
   "execution_count": 11,
   "id": "a581f983-91b5-41ab-b7c4-b76fcd1b016f",
   "metadata": {},
   "outputs": [
    {
     "name": "stdout",
     "output_type": "stream",
     "text": [
      "[['I', 'like', 'this', 'website'], ['This', 'website', 'be', 'like-(NON-STANDARD)', 'really', 'bad'], ['I', 'have', 'see', 'something', 'like-(NON-STANDARD)', 'this', 'before'], ['I', 'be', 'like-(NON-STANDARD)', 'I', 'will', 'go', 'mad'], ['I', 'be', 'like-(NON-STANDARD)', 'I', 'do', 'not', 'realy', 'know', 'what', 'to', 'do', 'now'], ['It', 'look', 'like-(NON-STANDARD)', 'the', 'website', 'be', 'not', 'updated']]\n"
     ]
    }
   ],
   "source": [
    "lines_lemma = []\n",
    "for phrase in lines_token_pos:\n",
    "    lines_lemma.append(lemmatize_(phrase))\n",
    "\n",
    "print(lines_lemma)"
   ]
  },
  {
   "cell_type": "code",
   "execution_count": 12,
   "id": "c727598f-b40d-4e44-9621-4a1fef924f28",
   "metadata": {},
   "outputs": [],
   "source": [
    "stopwords_list = stopwords.words('english')"
   ]
  },
  {
   "cell_type": "code",
   "execution_count": 13,
   "id": "766dcb72-5c5c-4ced-b554-7032f5e44153",
   "metadata": {},
   "outputs": [],
   "source": [
    "unwanted = {'no', 'not', 'nor'}\n",
    "custom_stopwords = [e for e in stopwords_list if e not in unwanted]"
   ]
  },
  {
   "cell_type": "code",
   "execution_count": 14,
   "id": "f7e0006b-cf2b-4e1e-89ec-5afaf6ddb5aa",
   "metadata": {},
   "outputs": [],
   "source": [
    "def remove_stopwords(text):\n",
    "    clean_text = []\n",
    "    for word in text:\n",
    "        if word.lower() not in set(custom_stopwords):\n",
    "            clean_text.append(word.lower())\n",
    "    return clean_text"
   ]
  },
  {
   "cell_type": "code",
   "execution_count": 15,
   "id": "c256526d-4216-42fc-8073-3ceab14c608a",
   "metadata": {},
   "outputs": [
    {
     "name": "stdout",
     "output_type": "stream",
     "text": [
      "[['like', 'website'], ['website', 'like-(non-standard)', 'really', 'bad'], ['see', 'something', 'like-(non-standard)'], ['like-(non-standard)', 'go', 'mad'], ['like-(non-standard)', 'not', 'realy', 'know'], ['look', 'like-(non-standard)', 'website', 'not', 'updated']]\n"
     ]
    }
   ],
   "source": [
    "preprocessed_text = []\n",
    "for phrase in lines_lemma:\n",
    "    preprocessed_text.append(remove_stopwords(phrase))\n",
    "\n",
    "print(preprocessed_text)"
   ]
  },
  {
   "cell_type": "code",
   "execution_count": 16,
   "id": "db079a78-e088-4c60-a184-6a53f04c3b4e",
   "metadata": {},
   "outputs": [],
   "source": [
    "analyzer = SentimentIntensityAnalyzer()"
   ]
  },
  {
   "cell_type": "code",
   "execution_count": 17,
   "id": "e777f890-a513-4f9b-92a4-0864f4f86ae0",
   "metadata": {},
   "outputs": [],
   "source": [
    "new_words = {\n",
    "    'see': 2.0,\n",
    "    'find': 2.0,\n",
    "    'spot': 2.0,\n",
    "    'grasp': 2.0,\n",
    "    'perceive': 2.0,\n",
    "    'identify': 2.0,\n",
    "    'notice': 2.0,\n",
    "    'distinguish': 2.0,\n",
    "    'sight': 2.0,\n",
    "    'glimpse': 2.0,\n",
    "    'recognize': 2.0,\n",
    "    'follow': 2.0,\n",
    "    'realize': 2.0,\n",
    "    'discover': 2.0,\n",
    "    'little': -2.0,\n",
    "    'small': -2.0,\n",
    "    'tiny': -2.0,\n",
    "    'large': 2.0,\n",
    "    'know': 2.0, \n",
    "    'understand': 2.0,\n",
    "    'kind': 1.5,\n",
    "    'pretty': 1.5\n",
    "}\n",
    "\n",
    "analyzer.lexicon.update(new_words)"
   ]
  },
  {
   "cell_type": "code",
   "execution_count": 18,
   "id": "89368acf-b8b9-49bd-80cb-dc958b2dbc86",
   "metadata": {},
   "outputs": [],
   "source": [
    "def search(values, searchFor):\n",
    "    cat_list = []\n",
    "    for word in searchFor:\n",
    "        for k in values:\n",
    "            for v in values[k]:\n",
    "                if word == v:\n",
    "                    cat_list.append(k)\n",
    "                    #return k\n",
    "    if cat_list:\n",
    "        return cat_list\n",
    "    return None"
   ]
  },
  {
   "cell_type": "code",
   "execution_count": 19,
   "id": "ca750edf-cb18-4784-83dc-912fdc9ee044",
   "metadata": {},
   "outputs": [],
   "source": [
    "df_azure_speech = pd.DataFrame(columns=['Sentence', 'Pre-processed sentence', 'textblob-subjectivity', 'vader-pos', 'vader-neg', 'vader-neu', 'vader-compound', 'vader-polarity', 'sentiment-category'])\n",
    "pos_words_str_vader = \"\"\n",
    "neg_words_str_vader = \"\""
   ]
  },
  {
   "cell_type": "code",
   "execution_count": 20,
   "id": "eb04ad98-06fd-482e-babc-0f1ecf8bf969",
   "metadata": {},
   "outputs": [],
   "source": [
    "for sentence, line in zip(sentences, preprocessed_text):\n",
    "    line_string = \" \".join(line)\n",
    "    txtblob_object = TextBlob(line_string)\n",
    "    subjectivity = txtblob_object.sentiment.subjectivity\n",
    "    sentiment_vader = analyzer.polarity_scores(line_string)\n",
    "\n",
    "    sent_cat = search(sentiment_category, line)\n",
    "    \n",
    "    if sentiment_vader['compound'] < 0:\n",
    "        polarity = 'Negative'\n",
    "        neg_words_str_vader += line_string\n",
    "        \n",
    "    elif sentiment_vader['compound'] > 0:\n",
    "        polarity = 'Positive'\n",
    "        pos_words_str_vader += line_string\n",
    "    else:\n",
    "        polarity = 'Neutral'\n",
    "    df_azure_speech = df_azure_speech.append({'Sentence': sentence,'Pre-processed sentence': line_string, 'textblob-subjectivity': subjectivity, 'vader-pos': sentiment_vader['pos'], 'vader-neg': sentiment_vader['neg'], 'vader-neu':sentiment_vader['neu'], 'vader-compound':sentiment_vader['compound'], 'vader-polarity': polarity, 'sentiment-category': sent_cat}, ignore_index=True)\n",
    "  "
   ]
  },
  {
   "cell_type": "code",
   "execution_count": 21,
   "id": "72633e45-58f5-490a-9e9d-f6fcc4060223",
   "metadata": {},
   "outputs": [],
   "source": [
    "df_azure_speech.to_csv(\"results/like_test-results.csv\")"
   ]
  },
  {
   "cell_type": "code",
   "execution_count": 22,
   "id": "dc98134e-511c-4185-a003-921250b8da93",
   "metadata": {},
   "outputs": [
    {
     "data": {
      "image/png": "[encoded data removed]",
      "text/plain": [
       "<Figure size 432x288 with 1 Axes>"
      ]
     },
     "metadata": {
      "needs_background": "light"
     },
     "output_type": "display_data"
    }
   ],
   "source": [
    "wordcloud = WordCloud(font_path = r'C:\\Windows\\Fonts\\Verdana.ttf',\n",
    "                            stopwords = STOPWORDS,\n",
    "                            background_color = 'white',\n",
    "                            width = 1200,\n",
    "                            height = 1000,\n",
    "                            ).generate(neg_words_str_vader)\n",
    "plt.imshow(wordcloud)\n",
    "plt.axis('off')\n",
    "plt.show()"
   ]
  },
  {
   "cell_type": "code",
   "execution_count": 23,
   "id": "37189d6a-5402-4bd7-9749-244ef95e2e34",
   "metadata": {},
   "outputs": [
    {
     "data": {
      "image/png": "[encoded data removed]",
      "text/plain": [
       "<Figure size 432x288 with 1 Axes>"
      ]
     },
     "metadata": {
      "needs_background": "light"
     },
     "output_type": "display_data"
    }
   ],
   "source": [
    "wordcloud = WordCloud(font_path = r'C:\\Windows\\Fonts\\Verdana.ttf',\n",
    "                            stopwords = STOPWORDS,\n",
    "                            background_color = 'white',\n",
    "                            width = 1200,\n",
    "                            height = 1000,\n",
    "                            ).generate(pos_words_str_vader)\n",
    "plt.imshow(wordcloud)\n",
    "plt.axis('off')\n",
    "plt.show()"
   ]
  },
  {
   "cell_type": "code",
   "execution_count": 24,
   "id": "15841287-9cad-4b1a-b9aa-dc4e627374ab",
   "metadata": {},
   "outputs": [],
   "source": [
    "# def sentiment_analysis(textfile):\n",
    "#     with open(textfile) as transcript:\n",
    "#         lines = transcript.readlines()\n",
    "#     lines_clean = clean(lines[0])\n",
    "#     lines_token_stop_pos = token_stop_pos(lines_clean)\n",
    "#     lines_lemma = lemmatize(lines_token_stop_pos).lower()\n",
    "#     ngram_object = TextBlob(lines_lemma)\n",
    "#     ngrams = ngram_object.ngrams(n=3) \n",
    "#     for ngram in ngrams:\n",
    "#         ngram_str = TextBlob(' '.join(ngram))\n",
    "#         sentiment = ngram_str.sentiment.polarity\n",
    "#         subjectivity = ngram_str.sentiment.subjectivity\n",
    "#         # sentiment_vader = analyzer.polarity_scores(ngram_str)\n",
    "#         if sentiment >= 0.2:\n",
    "#             print('Ngram: ' + ' '.join(ngram) + ' | sentiment: ' + str(sentiment) + ' | subjectivity: ' + str(subjectivity))\n",
    "#         if sentiment < 0:\n",
    "#             print('Ngram: ' + ' '.join(ngram) + ' | sentiment: ' + str(sentiment) + ' | subjectivity: ' + str(subjectivity))\n",
    "    \n",
    "# #     file_content=open (textfile).read()\n",
    "\n",
    "# #     wordcloud = WordCloud(font_path = r'C:\\Windows\\Fonts\\Verdana.ttf',\n",
    "# #                             stopwords = STOPWORDS,\n",
    "# #                             background_color = 'white',\n",
    "# #                             width = 1200,\n",
    "# #                             height = 1000,\n",
    "# #                             color_func = random_color_func\n",
    "# #                             ).generate(lines_lemma)\n",
    "# #     plt.imshow(wordcloud)\n",
    "# #     plt.axis('off')\n",
    "# #     plt.show()"
   ]
  },
  {
   "cell_type": "code",
   "execution_count": 25,
   "id": "79b38e45-72bc-4d90-9b18-d29125ed1d2a",
   "metadata": {},
   "outputs": [],
   "source": [
    "# sentiment_analysis(\"testing_text.txt\")"
   ]
  },
  {
   "cell_type": "code",
   "execution_count": 26,
   "id": "23287f83-6a24-44ad-a566-6bd4102f837c",
   "metadata": {},
   "outputs": [
    {
     "data": {
      "text/html": [
       "<div>\n",
       "<style scoped>\n",
       "    .dataframe tbody tr th:only-of-type {\n",
       "        vertical-align: middle;\n",
       "    }\n",
       "\n",
       "    .dataframe tbody tr th {\n",
       "        vertical-align: top;\n",
       "    }\n",
       "\n",
       "    .dataframe thead th {\n",
       "        text-align: right;\n",
       "    }\n",
       "</style>\n",
       "<table border=\"1\" class=\"dataframe\">\n",
       "  <thead>\n",
       "    <tr style=\"text-align: right;\">\n",
       "      <th></th>\n",
       "      <th>Sentence</th>\n",
       "      <th>Pre-processed sentence</th>\n",
       "      <th>textblob-subjectivity</th>\n",
       "      <th>vader-pos</th>\n",
       "      <th>vader-neg</th>\n",
       "      <th>vader-neu</th>\n",
       "      <th>vader-compound</th>\n",
       "      <th>vader-polarity</th>\n",
       "      <th>sentiment-category</th>\n",
       "    </tr>\n",
       "  </thead>\n",
       "  <tbody>\n",
       "    <tr>\n",
       "      <th>0</th>\n",
       "      <td>I like this website.</td>\n",
       "      <td>like website</td>\n",
       "      <td>0.000000</td>\n",
       "      <td>0.714</td>\n",
       "      <td>0.000</td>\n",
       "      <td>0.286</td>\n",
       "      <td>0.3612</td>\n",
       "      <td>Positive</td>\n",
       "      <td>[Satisfaction]</td>\n",
       "    </tr>\n",
       "    <tr>\n",
       "      <th>1</th>\n",
       "      <td>This website is like really bad.</td>\n",
       "      <td>website like-(non-standard) really bad</td>\n",
       "      <td>0.666667</td>\n",
       "      <td>0.000</td>\n",
       "      <td>0.558</td>\n",
       "      <td>0.442</td>\n",
       "      <td>-0.5849</td>\n",
       "      <td>Negative</td>\n",
       "      <td>None</td>\n",
       "    </tr>\n",
       "    <tr>\n",
       "      <th>2</th>\n",
       "      <td>I have seen something like this before.</td>\n",
       "      <td>see something like-(non-standard)</td>\n",
       "      <td>0.000000</td>\n",
       "      <td>0.600</td>\n",
       "      <td>0.000</td>\n",
       "      <td>0.400</td>\n",
       "      <td>0.4588</td>\n",
       "      <td>Positive</td>\n",
       "      <td>None</td>\n",
       "    </tr>\n",
       "    <tr>\n",
       "      <th>3</th>\n",
       "      <td>I was like, I will go mad.</td>\n",
       "      <td>like-(non-standard) go mad</td>\n",
       "      <td>1.000000</td>\n",
       "      <td>0.000</td>\n",
       "      <td>0.615</td>\n",
       "      <td>0.385</td>\n",
       "      <td>-0.4939</td>\n",
       "      <td>Negative</td>\n",
       "      <td>None</td>\n",
       "    </tr>\n",
       "    <tr>\n",
       "      <th>4</th>\n",
       "      <td>I was like I don't realy know what to do now.</td>\n",
       "      <td>like-(non-standard) not realy know</td>\n",
       "      <td>0.000000</td>\n",
       "      <td>0.000</td>\n",
       "      <td>0.453</td>\n",
       "      <td>0.547</td>\n",
       "      <td>-0.3570</td>\n",
       "      <td>Negative</td>\n",
       "      <td>None</td>\n",
       "    </tr>\n",
       "    <tr>\n",
       "      <th>5</th>\n",
       "      <td>It looked like the website wasn't updated.</td>\n",
       "      <td>look like-(non-standard) website not updated</td>\n",
       "      <td>0.000000</td>\n",
       "      <td>0.000</td>\n",
       "      <td>0.000</td>\n",
       "      <td>1.000</td>\n",
       "      <td>0.0000</td>\n",
       "      <td>Neutral</td>\n",
       "      <td>None</td>\n",
       "    </tr>\n",
       "  </tbody>\n",
       "</table>\n",
       "</div>"
      ],
      "text/plain": [
       "                                        Sentence  \\\n",
       "0                           I like this website.   \n",
       "1               This website is like really bad.   \n",
       "2        I have seen something like this before.   \n",
       "3                     I was like, I will go mad.   \n",
       "4  I was like I don't realy know what to do now.   \n",
       "5     It looked like the website wasn't updated.   \n",
       "\n",
       "                         Pre-processed sentence  textblob-subjectivity  \\\n",
       "0                                  like website               0.000000   \n",
       "1        website like-(non-standard) really bad               0.666667   \n",
       "2             see something like-(non-standard)               0.000000   \n",
       "3                    like-(non-standard) go mad               1.000000   \n",
       "4            like-(non-standard) not realy know               0.000000   \n",
       "5  look like-(non-standard) website not updated               0.000000   \n",
       "\n",
       "   vader-pos  vader-neg  vader-neu  vader-compound vader-polarity  \\\n",
       "0      0.714      0.000      0.286          0.3612       Positive   \n",
       "1      0.000      0.558      0.442         -0.5849       Negative   \n",
       "2      0.600      0.000      0.400          0.4588       Positive   \n",
       "3      0.000      0.615      0.385         -0.4939       Negative   \n",
       "4      0.000      0.453      0.547         -0.3570       Negative   \n",
       "5      0.000      0.000      1.000          0.0000        Neutral   \n",
       "\n",
       "  sentiment-category  \n",
       "0     [Satisfaction]  \n",
       "1               None  \n",
       "2               None  \n",
       "3               None  \n",
       "4               None  \n",
       "5               None  "
      ]
     },
     "execution_count": 26,
     "metadata": {},
     "output_type": "execute_result"
    }
   ],
   "source": [
    "df_azure_speech"
   ]
  },
  {
   "cell_type": "code",
   "execution_count": 27,
   "id": "a5a519e5-ccfc-444c-8f51-076c8952e856",
   "metadata": {},
   "outputs": [
    {
     "data": {
      "text/plain": [
       "array([[<AxesSubplot:title={'center':'textblob-subjectivity'}>,\n",
       "        <AxesSubplot:title={'center':'vader-pos'}>],\n",
       "       [<AxesSubplot:title={'center':'vader-neg'}>,\n",
       "        <AxesSubplot:title={'center':'vader-neu'}>],\n",
       "       [<AxesSubplot:title={'center':'vader-compound'}>, <AxesSubplot:>]],\n",
       "      dtype=object)"
      ]
     },
     "execution_count": 27,
     "metadata": {},
     "output_type": "execute_result"
    },
    {
     "data": {
      "image/png": "[encoded data removed]",
      "text/plain": [
       "<Figure size 432x288 with 6 Axes>"
      ]
     },
     "metadata": {
      "needs_background": "light"
     },
     "output_type": "display_data"
    }
   ],
   "source": [
    "df_azure_speech.hist()"
   ]
  },
  {
   "cell_type": "code",
   "execution_count": 28,
   "id": "1000d957-2c0f-4e82-b496-ef398ad9f6e9",
   "metadata": {},
   "outputs": [
    {
     "data": {
      "text/plain": [
       "<AxesSubplot:xlabel='vader-polarity', ylabel='vader-compound'>"
      ]
     },
     "execution_count": 28,
     "metadata": {},
     "output_type": "execute_result"
    },
    {
     "data": {
      "image/png": "[encoded data removed]",
      "text/plain": [
       "<Figure size 432x288 with 1 Axes>"
      ]
     },
     "metadata": {
      "needs_background": "light"
     },
     "output_type": "display_data"
    }
   ],
   "source": [
    "sns.boxplot(data=df_azure_speech, x=\"vader-polarity\", y=\"vader-compound\")"
   ]
  },
  {
   "cell_type": "code",
   "execution_count": 29,
   "id": "596e6909-8efe-4155-a007-2c1057ee4b17",
   "metadata": {},
   "outputs": [
    {
     "data": {
      "text/plain": [
       "<AxesSubplot:ylabel='vader-polarity'>"
      ]
     },
     "execution_count": 29,
     "metadata": {},
     "output_type": "execute_result"
    },
    {
     "data": {
      "image/png": "[encoded data removed]",
      "text/plain": [
       "<Figure size 432x288 with 1 Axes>"
      ]
     },
     "metadata": {},
     "output_type": "display_data"
    }
   ],
   "source": [
    "df_azure_speech['vader-polarity'].value_counts().plot(kind='pie')"
   ]
  },
  {
   "cell_type": "code",
   "execution_count": 30,
   "id": "464b40ea-5b38-4976-ac3a-712e24d427a3",
   "metadata": {},
   "outputs": [
    {
     "data": {
      "text/html": [
       "<div>\n",
       "<style scoped>\n",
       "    .dataframe tbody tr th:only-of-type {\n",
       "        vertical-align: middle;\n",
       "    }\n",
       "\n",
       "    .dataframe tbody tr th {\n",
       "        vertical-align: top;\n",
       "    }\n",
       "\n",
       "    .dataframe thead th {\n",
       "        text-align: right;\n",
       "    }\n",
       "</style>\n",
       "<table border=\"1\" class=\"dataframe\">\n",
       "  <thead>\n",
       "    <tr style=\"text-align: right;\">\n",
       "      <th></th>\n",
       "      <th>Sentence</th>\n",
       "      <th>Pre-processed sentence</th>\n",
       "      <th>textblob-subjectivity</th>\n",
       "      <th>vader-pos</th>\n",
       "      <th>vader-neg</th>\n",
       "      <th>vader-neu</th>\n",
       "      <th>vader-compound</th>\n",
       "      <th>vader-polarity</th>\n",
       "      <th>sentiment-category</th>\n",
       "    </tr>\n",
       "  </thead>\n",
       "  <tbody>\n",
       "    <tr>\n",
       "      <th>1</th>\n",
       "      <td>This website is like really bad.</td>\n",
       "      <td>website like-(non-standard) really bad</td>\n",
       "      <td>0.666667</td>\n",
       "      <td>0.000</td>\n",
       "      <td>0.558</td>\n",
       "      <td>0.442</td>\n",
       "      <td>-0.5849</td>\n",
       "      <td>Negative</td>\n",
       "      <td>None</td>\n",
       "    </tr>\n",
       "    <tr>\n",
       "      <th>3</th>\n",
       "      <td>I was like, I will go mad.</td>\n",
       "      <td>like-(non-standard) go mad</td>\n",
       "      <td>1.000000</td>\n",
       "      <td>0.000</td>\n",
       "      <td>0.615</td>\n",
       "      <td>0.385</td>\n",
       "      <td>-0.4939</td>\n",
       "      <td>Negative</td>\n",
       "      <td>None</td>\n",
       "    </tr>\n",
       "    <tr>\n",
       "      <th>4</th>\n",
       "      <td>I was like I don't realy know what to do now.</td>\n",
       "      <td>like-(non-standard) not realy know</td>\n",
       "      <td>0.000000</td>\n",
       "      <td>0.000</td>\n",
       "      <td>0.453</td>\n",
       "      <td>0.547</td>\n",
       "      <td>-0.3570</td>\n",
       "      <td>Negative</td>\n",
       "      <td>None</td>\n",
       "    </tr>\n",
       "    <tr>\n",
       "      <th>5</th>\n",
       "      <td>It looked like the website wasn't updated.</td>\n",
       "      <td>look like-(non-standard) website not updated</td>\n",
       "      <td>0.000000</td>\n",
       "      <td>0.000</td>\n",
       "      <td>0.000</td>\n",
       "      <td>1.000</td>\n",
       "      <td>0.0000</td>\n",
       "      <td>Neutral</td>\n",
       "      <td>None</td>\n",
       "    </tr>\n",
       "    <tr>\n",
       "      <th>0</th>\n",
       "      <td>I like this website.</td>\n",
       "      <td>like website</td>\n",
       "      <td>0.000000</td>\n",
       "      <td>0.714</td>\n",
       "      <td>0.000</td>\n",
       "      <td>0.286</td>\n",
       "      <td>0.3612</td>\n",
       "      <td>Positive</td>\n",
       "      <td>[Satisfaction]</td>\n",
       "    </tr>\n",
       "    <tr>\n",
       "      <th>2</th>\n",
       "      <td>I have seen something like this before.</td>\n",
       "      <td>see something like-(non-standard)</td>\n",
       "      <td>0.000000</td>\n",
       "      <td>0.600</td>\n",
       "      <td>0.000</td>\n",
       "      <td>0.400</td>\n",
       "      <td>0.4588</td>\n",
       "      <td>Positive</td>\n",
       "      <td>None</td>\n",
       "    </tr>\n",
       "  </tbody>\n",
       "</table>\n",
       "</div>"
      ],
      "text/plain": [
       "                                        Sentence  \\\n",
       "1               This website is like really bad.   \n",
       "3                     I was like, I will go mad.   \n",
       "4  I was like I don't realy know what to do now.   \n",
       "5     It looked like the website wasn't updated.   \n",
       "0                           I like this website.   \n",
       "2        I have seen something like this before.   \n",
       "\n",
       "                         Pre-processed sentence  textblob-subjectivity  \\\n",
       "1        website like-(non-standard) really bad               0.666667   \n",
       "3                    like-(non-standard) go mad               1.000000   \n",
       "4            like-(non-standard) not realy know               0.000000   \n",
       "5  look like-(non-standard) website not updated               0.000000   \n",
       "0                                  like website               0.000000   \n",
       "2             see something like-(non-standard)               0.000000   \n",
       "\n",
       "   vader-pos  vader-neg  vader-neu  vader-compound vader-polarity  \\\n",
       "1      0.000      0.558      0.442         -0.5849       Negative   \n",
       "3      0.000      0.615      0.385         -0.4939       Negative   \n",
       "4      0.000      0.453      0.547         -0.3570       Negative   \n",
       "5      0.000      0.000      1.000          0.0000        Neutral   \n",
       "0      0.714      0.000      0.286          0.3612       Positive   \n",
       "2      0.600      0.000      0.400          0.4588       Positive   \n",
       "\n",
       "  sentiment-category  \n",
       "1               None  \n",
       "3               None  \n",
       "4               None  \n",
       "5               None  \n",
       "0     [Satisfaction]  \n",
       "2               None  "
      ]
     },
     "execution_count": 30,
     "metadata": {},
     "output_type": "execute_result"
    }
   ],
   "source": [
    "df_azure_speech.sort_values('vader-compound').head(20)"
   ]
  },
  {
   "cell_type": "code",
   "execution_count": 31,
   "id": "aa1b348d-d5f7-47be-953a-0a50067eec21",
   "metadata": {},
   "outputs": [
    {
     "data": {
      "text/html": [
       "<div>\n",
       "<style scoped>\n",
       "    .dataframe tbody tr th:only-of-type {\n",
       "        vertical-align: middle;\n",
       "    }\n",
       "\n",
       "    .dataframe tbody tr th {\n",
       "        vertical-align: top;\n",
       "    }\n",
       "\n",
       "    .dataframe thead th {\n",
       "        text-align: right;\n",
       "    }\n",
       "</style>\n",
       "<table border=\"1\" class=\"dataframe\">\n",
       "  <thead>\n",
       "    <tr style=\"text-align: right;\">\n",
       "      <th></th>\n",
       "      <th>Sentence</th>\n",
       "      <th>Pre-processed sentence</th>\n",
       "      <th>textblob-subjectivity</th>\n",
       "      <th>vader-pos</th>\n",
       "      <th>vader-neg</th>\n",
       "      <th>vader-neu</th>\n",
       "      <th>vader-compound</th>\n",
       "      <th>vader-polarity</th>\n",
       "      <th>sentiment-category</th>\n",
       "    </tr>\n",
       "  </thead>\n",
       "  <tbody>\n",
       "    <tr>\n",
       "      <th>2</th>\n",
       "      <td>I have seen something like this before.</td>\n",
       "      <td>see something like-(non-standard)</td>\n",
       "      <td>0.000000</td>\n",
       "      <td>0.600</td>\n",
       "      <td>0.000</td>\n",
       "      <td>0.400</td>\n",
       "      <td>0.4588</td>\n",
       "      <td>Positive</td>\n",
       "      <td>None</td>\n",
       "    </tr>\n",
       "    <tr>\n",
       "      <th>0</th>\n",
       "      <td>I like this website.</td>\n",
       "      <td>like website</td>\n",
       "      <td>0.000000</td>\n",
       "      <td>0.714</td>\n",
       "      <td>0.000</td>\n",
       "      <td>0.286</td>\n",
       "      <td>0.3612</td>\n",
       "      <td>Positive</td>\n",
       "      <td>[Satisfaction]</td>\n",
       "    </tr>\n",
       "    <tr>\n",
       "      <th>5</th>\n",
       "      <td>It looked like the website wasn't updated.</td>\n",
       "      <td>look like-(non-standard) website not updated</td>\n",
       "      <td>0.000000</td>\n",
       "      <td>0.000</td>\n",
       "      <td>0.000</td>\n",
       "      <td>1.000</td>\n",
       "      <td>0.0000</td>\n",
       "      <td>Neutral</td>\n",
       "      <td>None</td>\n",
       "    </tr>\n",
       "    <tr>\n",
       "      <th>4</th>\n",
       "      <td>I was like I don't realy know what to do now.</td>\n",
       "      <td>like-(non-standard) not realy know</td>\n",
       "      <td>0.000000</td>\n",
       "      <td>0.000</td>\n",
       "      <td>0.453</td>\n",
       "      <td>0.547</td>\n",
       "      <td>-0.3570</td>\n",
       "      <td>Negative</td>\n",
       "      <td>None</td>\n",
       "    </tr>\n",
       "    <tr>\n",
       "      <th>3</th>\n",
       "      <td>I was like, I will go mad.</td>\n",
       "      <td>like-(non-standard) go mad</td>\n",
       "      <td>1.000000</td>\n",
       "      <td>0.000</td>\n",
       "      <td>0.615</td>\n",
       "      <td>0.385</td>\n",
       "      <td>-0.4939</td>\n",
       "      <td>Negative</td>\n",
       "      <td>None</td>\n",
       "    </tr>\n",
       "    <tr>\n",
       "      <th>1</th>\n",
       "      <td>This website is like really bad.</td>\n",
       "      <td>website like-(non-standard) really bad</td>\n",
       "      <td>0.666667</td>\n",
       "      <td>0.000</td>\n",
       "      <td>0.558</td>\n",
       "      <td>0.442</td>\n",
       "      <td>-0.5849</td>\n",
       "      <td>Negative</td>\n",
       "      <td>None</td>\n",
       "    </tr>\n",
       "  </tbody>\n",
       "</table>\n",
       "</div>"
      ],
      "text/plain": [
       "                                        Sentence  \\\n",
       "2        I have seen something like this before.   \n",
       "0                           I like this website.   \n",
       "5     It looked like the website wasn't updated.   \n",
       "4  I was like I don't realy know what to do now.   \n",
       "3                     I was like, I will go mad.   \n",
       "1               This website is like really bad.   \n",
       "\n",
       "                         Pre-processed sentence  textblob-subjectivity  \\\n",
       "2             see something like-(non-standard)               0.000000   \n",
       "0                                  like website               0.000000   \n",
       "5  look like-(non-standard) website not updated               0.000000   \n",
       "4            like-(non-standard) not realy know               0.000000   \n",
       "3                    like-(non-standard) go mad               1.000000   \n",
       "1        website like-(non-standard) really bad               0.666667   \n",
       "\n",
       "   vader-pos  vader-neg  vader-neu  vader-compound vader-polarity  \\\n",
       "2      0.600      0.000      0.400          0.4588       Positive   \n",
       "0      0.714      0.000      0.286          0.3612       Positive   \n",
       "5      0.000      0.000      1.000          0.0000        Neutral   \n",
       "4      0.000      0.453      0.547         -0.3570       Negative   \n",
       "3      0.000      0.615      0.385         -0.4939       Negative   \n",
       "1      0.000      0.558      0.442         -0.5849       Negative   \n",
       "\n",
       "  sentiment-category  \n",
       "2               None  \n",
       "0     [Satisfaction]  \n",
       "5               None  \n",
       "4               None  \n",
       "3               None  \n",
       "1               None  "
      ]
     },
     "execution_count": 31,
     "metadata": {},
     "output_type": "execute_result"
    }
   ],
   "source": [
    "df_azure_speech.sort_values('vader-compound', ascending=False).head(20)"
   ]
  },
  {
   "cell_type": "code",
   "execution_count": null,
   "id": "75fc22bb-ba9b-48a5-b3a0-c6903feadf08",
   "metadata": {},
   "outputs": [],
   "source": []
  }
 ],
 "metadata": {
  "kernelspec": {
   "display_name": "Python 3 (ipykernel)",
   "language": "python",
   "name": "python3"
  },
  "language_info": {
   "codemirror_mode": {
    "name": "ipython",
    "version": 3
   },
   "file_extension": ".py",
   "mimetype": "text/x-python",
   "name": "python",
   "nbconvert_exporter": "python",
   "pygments_lexer": "ipython3",
   "version": "3.8.9"
  }
 },
 "nbformat": 4,
 "nbformat_minor": 5
}
