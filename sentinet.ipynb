{
 "cells": [
  {
   "cell_type": "code",
   "execution_count": 3,
   "id": "c97930a8-dab3-4d4e-830f-7453078be749",
   "metadata": {},
   "outputs": [],
   "source": [
    "import nltk\n",
    "from nltk.corpus import sentiwordnet as swn"
   ]
  },
  {
   "cell_type": "code",
   "execution_count": 17,
   "id": "7c35b5ce-d5fa-49aa-8f0f-47fb22acb447",
   "metadata": {},
   "outputs": [
    {
     "name": "stdout",
     "output_type": "stream",
     "text": [
      "<breakdown.n.03: PosScore=0.0 NegScore=0.25>\n"
     ]
    }
   ],
   "source": [
    "breakdown = swn.senti_synset('breakdown.n.03')\n",
    "print(breakdown)\n",
    "# berie do uvahy len jedno slovo. dala by sa jedine scitavat polarita v ngrame "
   ]
  },
  {
   "cell_type": "code",
   "execution_count": 14,
   "id": "59617e49-800b-435c-ad0e-932988589256",
   "metadata": {},
   "outputs": [
    {
     "name": "stdout",
     "output_type": "stream",
     "text": [
      "<filter object at 0x0000027F61DC8760>\n"
     ]
    }
   ],
   "source": [
    "# https://stackoverflow.com/questions/33959459/usage-of-nltk-sentiwordnet-with-python"
   ]
  },
  {
   "cell_type": "code",
   "execution_count": null,
   "id": "164bd627-e1b1-47a0-ba0a-6a448b88f30e",
   "metadata": {},
   "outputs": [],
   "source": []
  }
 ],
 "metadata": {
  "kernelspec": {
   "display_name": "Python 3 (ipykernel)",
   "language": "python",
   "name": "python3"
  },
  "language_info": {
   "codemirror_mode": {
    "name": "ipython",
    "version": 3
   },
   "file_extension": ".py",
   "mimetype": "text/x-python",
   "name": "python",
   "nbconvert_exporter": "python",
   "pygments_lexer": "ipython3",
   "version": "3.8.9"
  }
 },
 "nbformat": 4,
 "nbformat_minor": 5
}
